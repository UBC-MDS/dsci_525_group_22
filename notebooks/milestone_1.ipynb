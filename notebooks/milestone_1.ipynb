{
 "cells": [
  {
   "cell_type": "markdown",
   "metadata": {},
   "source": [
    "### 1. Import libraries"
   ]
  },
  {
   "cell_type": "code",
   "execution_count": 6,
   "metadata": {},
   "outputs": [
    {
     "name": "stderr",
     "output_type": "stream",
     "text": [
      "C:\\Users\\macyt\\miniconda3\\envs\\525_2022\\lib\\site-packages\\tqdm\\auto.py:22: TqdmWarning: IProgress not found. Please update jupyter and ipywidgets. See https://ipywidgets.readthedocs.io/en/stable/user_install.html\n",
      "  from .autonotebook import tqdm as notebook_tqdm\n"
     ]
    }
   ],
   "source": [
    "import pandas as pd\n",
    "import requests\n",
    "import json\n",
    "import os\n",
    "import shutil\n",
    "from tqdm.auto import tqdm\n",
    "import zipfile\n",
    "import glob\n",
    "import re\n",
    "import pyarrow as pa\n",
    "import rpy2_arrow.pyarrow_rarrow as pyra\n",
    "import pyarrow.dataset as ds\n",
    "import gc\n",
    "\n",
    "import warnings\n",
    "warnings.simplefilter(action='ignore', category=FutureWarning)\n"
   ]
  },
  {
   "cell_type": "markdown",
   "metadata": {},
   "source": [
    "### 2. Download the data"
   ]
  },
  {
   "cell_type": "code",
   "execution_count": 2,
   "metadata": {},
   "outputs": [
    {
     "name": "stdout",
     "output_type": "stream",
     "text": [
      "File already exists. Skipping.\n",
      "Unzipping file...\n",
      "Unzipping complete.\n"
     ]
    }
   ],
   "source": [
    "# Metadata\n",
    "article_id = 14096681\n",
    "url = f\"https://api.figshare.com/v2/articles/{article_id}\"\n",
    "headers = {\"Content-Type\": \"application/json\"}\n",
    "out_dir = os.path.join(os.getcwd(), \"..\", \"data\", \"raw\", \"figshare\")\n",
    "file_to_download = \"data.zip\"\n",
    "\n",
    "# Get file url\n",
    "file_url = [\n",
    "    item_[\"download_url\"]\n",
    "    for item_ in requests.get(url, headers=headers).json()[\"files\"]\n",
    "    if item_[\"name\"] == file_to_download\n",
    "][0]\n",
    "\n",
    "# Check if file has already been downloaded\n",
    "if os.path.exists(os.path.join(out_dir, file_to_download)):\n",
    "    print(\"File already exists. Skipping.\")\n",
    "else:\n",
    "    print(f\"Writing file file {file_to_download} to directory {out_dir}\")\n",
    "\n",
    "    # Create an HTTP request\n",
    "    with requests.get(file_url, stream=True) as r:\n",
    "\n",
    "        # Check content length\n",
    "        content_length = int(r.headers.get(\"Content-Length\"))\n",
    "\n",
    "        # SDisplay progress bar\n",
    "        with tqdm.wrapattr(r.raw, \"read\", total=content_length, desc=\"\") as raw:\n",
    "\n",
    "            # Save file\n",
    "            os.makedirs(out_dir)\n",
    "            with open(os.path.join(out_dir, \n",
    "                                   file_to_download), \"wb\") as path:\n",
    "                shutil.copyfileobj(raw, path)\n",
    "\n",
    "    print(\"Download complete.\")\n",
    "\n",
    "if not any(fname.endswith('.csv') for fname in os.listdir('.')):\n",
    "    # Unzip file with python\n",
    "    print(\"Unzipping file...\")\n",
    "    with zipfile.ZipFile(os.path.join(out_dir, file_to_download), \"r\") as zip_ref:\n",
    "        zip_ref.extractall(out_dir) # Extract all files to directory\n",
    "        zip_ref.close()\n",
    "    print(\"Unzipping complete.\")\n"
   ]
  },
  {
   "cell_type": "markdown",
   "metadata": {},
   "source": [
    "### 3. Combining data csv"
   ]
  },
  {
   "cell_type": "code",
   "execution_count": 3,
   "metadata": {},
   "outputs": [],
   "source": [
    "out_processed_dir = os.path.join(os.getcwd(), \"..\", \"data\", \"processed\", \"figshare\")\n",
    "file_to_exclude = \"observed_daily_rainfall_SYD.csv\"\n",
    "files = glob.glob(out_dir + \"/*.csv\")"
   ]
  },
  {
   "cell_type": "code",
   "execution_count": 4,
   "metadata": {},
   "outputs": [
    {
     "name": "stdout",
     "output_type": "stream",
     "text": [
      "15min 25s ± 0 ns per loop (mean ± std. dev. of 1 run, 1 loop each)\n"
     ]
    }
   ],
   "source": [
    "%%timeit -r 1\n",
    "\n",
    "# Combine data\n",
    "df = pd.concat(\n",
    "    (\n",
    "        pd.read_csv(file, index_col=0).assign(model=re.findall(r\"[^\\/]+(?=\\_daily)\", file)[0])\n",
    "        for file in files\n",
    "        if file_to_exclude not in file\n",
    "    )\n",
    ")\n",
    "\n",
    "# Write to file\n",
    "os.makedirs(out_processed_dir, exist_ok=True)  \n",
    "df.to_csv(os.path.join(out_processed_dir, \"processed_rainfall.csv\"))\n"
   ]
  },
  {
   "cell_type": "markdown",
   "metadata": {},
   "source": [
    "#### Compare run times on different machines - Combining data\n",
    "\n",
    "| Team Member        | Operating System | RAM  | Processor              | Is SSD | Time taken |\n",
    "|:------------------:|:----------------:|:----:|:----------------------:|:------:|:----------:|\n",
    "| Rakesh Pandey      | Ubuntu 20.04     | 32GB | Intel® Core™ i7-10870H | Yes    | 4min 51s   |\n",
    "| Mahsa Sarafrazi    | Windows 11 64-bit| 8 GB | Intel® Core™ i5-1035G4 |Yes     | 17min 4s   |\n",
    "| Gabe Fairbrother   |  Windows 10      | 32GB | Intel® Core™ i7-10875H | Yes    |     6min 40s       |\n",
    "| Michelle Wang      | Windows 10        | 16GB | Intel® Core™ i5-11300H  |      Yes                  |  15min 25s    "
   ]
  },
  {
   "cell_type": "markdown",
   "metadata": {},
   "source": [
    "### 4. Load the combined CSV to memory and perform a simple EDA"
   ]
  },
  {
   "cell_type": "markdown",
   "metadata": {},
   "source": [
    "#### A. Load all columns"
   ]
  },
  {
   "cell_type": "code",
   "execution_count": 5,
   "metadata": {},
   "outputs": [
    {
     "data": {
      "text/plain": [
       "27"
      ]
     },
     "execution_count": 5,
     "metadata": {},
     "output_type": "execute_result"
    }
   ],
   "source": [
    "gc.collect()"
   ]
  },
  {
   "cell_type": "code",
   "execution_count": 6,
   "metadata": {},
   "outputs": [
    {
     "name": "stdout",
     "output_type": "stream",
     "text": [
      "Model counts:\n",
      "C:\\Users\\macyt\\Documents\\UBC_Class\\Labs\\525_proj\\dsci_525_group_22\\notebooks\\..\\data\\raw\\figshare\\MPI-ESM1-2-HR       5154240\n",
      "C:\\Users\\macyt\\Documents\\UBC_Class\\Labs\\525_proj\\dsci_525_group_22\\notebooks\\..\\data\\raw\\figshare\\TaiESM1             3541230\n",
      "C:\\Users\\macyt\\Documents\\UBC_Class\\Labs\\525_proj\\dsci_525_group_22\\notebooks\\..\\data\\raw\\figshare\\NorESM2-MM          3541230\n",
      "C:\\Users\\macyt\\Documents\\UBC_Class\\Labs\\525_proj\\dsci_525_group_22\\notebooks\\..\\data\\raw\\figshare\\CMCC-CM2-HR4        3541230\n",
      "C:\\Users\\macyt\\Documents\\UBC_Class\\Labs\\525_proj\\dsci_525_group_22\\notebooks\\..\\data\\raw\\figshare\\CMCC-CM2-SR5        3541230\n",
      "C:\\Users\\macyt\\Documents\\UBC_Class\\Labs\\525_proj\\dsci_525_group_22\\notebooks\\..\\data\\raw\\figshare\\CMCC-ESM2           3541230\n",
      "C:\\Users\\macyt\\Documents\\UBC_Class\\Labs\\525_proj\\dsci_525_group_22\\notebooks\\..\\data\\raw\\figshare\\SAM0-UNICON         3541153\n",
      "C:\\Users\\macyt\\Documents\\UBC_Class\\Labs\\525_proj\\dsci_525_group_22\\notebooks\\..\\data\\raw\\figshare\\FGOALS-f3-L         3219300\n",
      "C:\\Users\\macyt\\Documents\\UBC_Class\\Labs\\525_proj\\dsci_525_group_22\\notebooks\\..\\data\\raw\\figshare\\GFDL-CM4            3219300\n",
      "C:\\Users\\macyt\\Documents\\UBC_Class\\Labs\\525_proj\\dsci_525_group_22\\notebooks\\..\\data\\raw\\figshare\\GFDL-ESM4           3219300\n",
      "C:\\Users\\macyt\\Documents\\UBC_Class\\Labs\\525_proj\\dsci_525_group_22\\notebooks\\..\\data\\raw\\figshare\\EC-Earth3-Veg-LR    3037320\n",
      "C:\\Users\\macyt\\Documents\\UBC_Class\\Labs\\525_proj\\dsci_525_group_22\\notebooks\\..\\data\\raw\\figshare\\MRI-ESM2-0          3037320\n",
      "C:\\Users\\macyt\\Documents\\UBC_Class\\Labs\\525_proj\\dsci_525_group_22\\notebooks\\..\\data\\raw\\figshare\\BCC-CSM2-MR         3035340\n",
      "C:\\Users\\macyt\\Documents\\UBC_Class\\Labs\\525_proj\\dsci_525_group_22\\notebooks\\..\\data\\raw\\figshare\\MIROC6              2070900\n",
      "C:\\Users\\macyt\\Documents\\UBC_Class\\Labs\\525_proj\\dsci_525_group_22\\notebooks\\..\\data\\raw\\figshare\\ACCESS-CM2          1932840\n",
      "C:\\Users\\macyt\\Documents\\UBC_Class\\Labs\\525_proj\\dsci_525_group_22\\notebooks\\..\\data\\raw\\figshare\\ACCESS-ESM1-5       1610700\n",
      "C:\\Users\\macyt\\Documents\\UBC_Class\\Labs\\525_proj\\dsci_525_group_22\\notebooks\\..\\data\\raw\\figshare\\INM-CM5-0           1609650\n",
      "C:\\Users\\macyt\\Documents\\UBC_Class\\Labs\\525_proj\\dsci_525_group_22\\notebooks\\..\\data\\raw\\figshare\\INM-CM4-8           1609650\n",
      "C:\\Users\\macyt\\Documents\\UBC_Class\\Labs\\525_proj\\dsci_525_group_22\\notebooks\\..\\data\\raw\\figshare\\KIOST-ESM           1287720\n",
      "C:\\Users\\macyt\\Documents\\UBC_Class\\Labs\\525_proj\\dsci_525_group_22\\notebooks\\..\\data\\raw\\figshare\\FGOALS-g3           1287720\n",
      "C:\\Users\\macyt\\Documents\\UBC_Class\\Labs\\525_proj\\dsci_525_group_22\\notebooks\\..\\data\\raw\\figshare\\MPI-ESM1-2-LR        966420\n",
      "C:\\Users\\macyt\\Documents\\UBC_Class\\Labs\\525_proj\\dsci_525_group_22\\notebooks\\..\\data\\raw\\figshare\\NESM3                966420\n",
      "C:\\Users\\macyt\\Documents\\UBC_Class\\Labs\\525_proj\\dsci_525_group_22\\notebooks\\..\\data\\raw\\figshare\\AWI-ESM-1-1-LR       966420\n",
      "C:\\Users\\macyt\\Documents\\UBC_Class\\Labs\\525_proj\\dsci_525_group_22\\notebooks\\..\\data\\raw\\figshare\\MPI-ESM-1-2-HAM      966420\n",
      "C:\\Users\\macyt\\Documents\\UBC_Class\\Labs\\525_proj\\dsci_525_group_22\\notebooks\\..\\data\\raw\\figshare\\NorESM2-LM           919800\n",
      "C:\\Users\\macyt\\Documents\\UBC_Class\\Labs\\525_proj\\dsci_525_group_22\\notebooks\\..\\data\\raw\\figshare\\BCC-ESM1             551880\n",
      "C:\\Users\\macyt\\Documents\\UBC_Class\\Labs\\525_proj\\dsci_525_group_22\\notebooks\\..\\data\\raw\\figshare\\CanESM5              551880\n",
      "Name: model, dtype: int64\n",
      "Data description:\n",
      "            lat_min       lat_max       lon_min       lon_max  rain (mm/day)\n",
      "count  5.924854e+07  6.246784e+07  5.924854e+07  6.246784e+07   5.924854e+07\n",
      "mean  -3.310482e+01 -3.197757e+01  1.469059e+02  1.482150e+02   1.901170e+00\n",
      "std    1.963549e+00  1.992067e+00  3.793784e+00  3.809994e+00   5.585735e+00\n",
      "min   -3.646739e+01 -3.600000e+01  1.406250e+02  1.412500e+02  -3.807373e-12\n",
      "25%   -3.486911e+01 -3.366221e+01  1.434375e+02  1.450000e+02   3.838413e-06\n",
      "50%   -3.300000e+01 -3.204188e+01  1.468750e+02  1.481250e+02   6.154947e-02\n",
      "75%   -3.140170e+01 -3.015707e+01  1.501875e+02  1.513125e+02   1.020918e+00\n",
      "max   -2.990000e+01 -2.790606e+01  1.537500e+02  1.556250e+02   4.329395e+02\n",
      "Model counts:\n",
      "C:\\Users\\macyt\\Documents\\UBC_Class\\Labs\\525_proj\\dsci_525_group_22\\notebooks\\..\\data\\raw\\figshare\\MPI-ESM1-2-HR       5154240\n",
      "C:\\Users\\macyt\\Documents\\UBC_Class\\Labs\\525_proj\\dsci_525_group_22\\notebooks\\..\\data\\raw\\figshare\\TaiESM1             3541230\n",
      "C:\\Users\\macyt\\Documents\\UBC_Class\\Labs\\525_proj\\dsci_525_group_22\\notebooks\\..\\data\\raw\\figshare\\NorESM2-MM          3541230\n",
      "C:\\Users\\macyt\\Documents\\UBC_Class\\Labs\\525_proj\\dsci_525_group_22\\notebooks\\..\\data\\raw\\figshare\\CMCC-CM2-HR4        3541230\n",
      "C:\\Users\\macyt\\Documents\\UBC_Class\\Labs\\525_proj\\dsci_525_group_22\\notebooks\\..\\data\\raw\\figshare\\CMCC-CM2-SR5        3541230\n",
      "C:\\Users\\macyt\\Documents\\UBC_Class\\Labs\\525_proj\\dsci_525_group_22\\notebooks\\..\\data\\raw\\figshare\\CMCC-ESM2           3541230\n",
      "C:\\Users\\macyt\\Documents\\UBC_Class\\Labs\\525_proj\\dsci_525_group_22\\notebooks\\..\\data\\raw\\figshare\\SAM0-UNICON         3541153\n",
      "C:\\Users\\macyt\\Documents\\UBC_Class\\Labs\\525_proj\\dsci_525_group_22\\notebooks\\..\\data\\raw\\figshare\\FGOALS-f3-L         3219300\n",
      "C:\\Users\\macyt\\Documents\\UBC_Class\\Labs\\525_proj\\dsci_525_group_22\\notebooks\\..\\data\\raw\\figshare\\GFDL-CM4            3219300\n",
      "C:\\Users\\macyt\\Documents\\UBC_Class\\Labs\\525_proj\\dsci_525_group_22\\notebooks\\..\\data\\raw\\figshare\\GFDL-ESM4           3219300\n",
      "C:\\Users\\macyt\\Documents\\UBC_Class\\Labs\\525_proj\\dsci_525_group_22\\notebooks\\..\\data\\raw\\figshare\\EC-Earth3-Veg-LR    3037320\n",
      "C:\\Users\\macyt\\Documents\\UBC_Class\\Labs\\525_proj\\dsci_525_group_22\\notebooks\\..\\data\\raw\\figshare\\MRI-ESM2-0          3037320\n",
      "C:\\Users\\macyt\\Documents\\UBC_Class\\Labs\\525_proj\\dsci_525_group_22\\notebooks\\..\\data\\raw\\figshare\\BCC-CSM2-MR         3035340\n",
      "C:\\Users\\macyt\\Documents\\UBC_Class\\Labs\\525_proj\\dsci_525_group_22\\notebooks\\..\\data\\raw\\figshare\\MIROC6              2070900\n",
      "C:\\Users\\macyt\\Documents\\UBC_Class\\Labs\\525_proj\\dsci_525_group_22\\notebooks\\..\\data\\raw\\figshare\\ACCESS-CM2          1932840\n",
      "C:\\Users\\macyt\\Documents\\UBC_Class\\Labs\\525_proj\\dsci_525_group_22\\notebooks\\..\\data\\raw\\figshare\\ACCESS-ESM1-5       1610700\n",
      "C:\\Users\\macyt\\Documents\\UBC_Class\\Labs\\525_proj\\dsci_525_group_22\\notebooks\\..\\data\\raw\\figshare\\INM-CM5-0           1609650\n",
      "C:\\Users\\macyt\\Documents\\UBC_Class\\Labs\\525_proj\\dsci_525_group_22\\notebooks\\..\\data\\raw\\figshare\\INM-CM4-8           1609650\n",
      "C:\\Users\\macyt\\Documents\\UBC_Class\\Labs\\525_proj\\dsci_525_group_22\\notebooks\\..\\data\\raw\\figshare\\KIOST-ESM           1287720\n",
      "C:\\Users\\macyt\\Documents\\UBC_Class\\Labs\\525_proj\\dsci_525_group_22\\notebooks\\..\\data\\raw\\figshare\\FGOALS-g3           1287720\n",
      "C:\\Users\\macyt\\Documents\\UBC_Class\\Labs\\525_proj\\dsci_525_group_22\\notebooks\\..\\data\\raw\\figshare\\MPI-ESM1-2-LR        966420\n",
      "C:\\Users\\macyt\\Documents\\UBC_Class\\Labs\\525_proj\\dsci_525_group_22\\notebooks\\..\\data\\raw\\figshare\\NESM3                966420\n",
      "C:\\Users\\macyt\\Documents\\UBC_Class\\Labs\\525_proj\\dsci_525_group_22\\notebooks\\..\\data\\raw\\figshare\\AWI-ESM-1-1-LR       966420\n",
      "C:\\Users\\macyt\\Documents\\UBC_Class\\Labs\\525_proj\\dsci_525_group_22\\notebooks\\..\\data\\raw\\figshare\\MPI-ESM-1-2-HAM      966420\n",
      "C:\\Users\\macyt\\Documents\\UBC_Class\\Labs\\525_proj\\dsci_525_group_22\\notebooks\\..\\data\\raw\\figshare\\NorESM2-LM           919800\n",
      "C:\\Users\\macyt\\Documents\\UBC_Class\\Labs\\525_proj\\dsci_525_group_22\\notebooks\\..\\data\\raw\\figshare\\BCC-ESM1             551880\n",
      "C:\\Users\\macyt\\Documents\\UBC_Class\\Labs\\525_proj\\dsci_525_group_22\\notebooks\\..\\data\\raw\\figshare\\CanESM5              551880\n",
      "Name: model, dtype: int64\n",
      "Data description:\n",
      "            lat_min       lat_max       lon_min       lon_max  rain (mm/day)\n",
      "count  5.924854e+07  6.246784e+07  5.924854e+07  6.246784e+07   5.924854e+07\n",
      "mean  -3.310482e+01 -3.197757e+01  1.469059e+02  1.482150e+02   1.901170e+00\n",
      "std    1.963549e+00  1.992067e+00  3.793784e+00  3.809994e+00   5.585735e+00\n",
      "min   -3.646739e+01 -3.600000e+01  1.406250e+02  1.412500e+02  -3.807373e-12\n",
      "25%   -3.486911e+01 -3.366221e+01  1.434375e+02  1.450000e+02   3.838413e-06\n",
      "50%   -3.300000e+01 -3.204188e+01  1.468750e+02  1.481250e+02   6.154947e-02\n",
      "75%   -3.140170e+01 -3.015707e+01  1.501875e+02  1.513125e+02   1.020918e+00\n",
      "max   -2.990000e+01 -2.790606e+01  1.537500e+02  1.556250e+02   4.329395e+02\n",
      "3min 29s ± 0 ns per loop (mean ± std. dev. of 1 run, 1 loop each)\n"
     ]
    }
   ],
   "source": [
    "%%timeit -r 1\n",
    "\n",
    "# Load the data\n",
    "df = pd.read_csv(os.path.join(out_processed_dir, \"processed_rainfall.csv\"), index_col=0)\n",
    "\n",
    "# Get the model counts\n",
    "print(\"Model counts:\")\n",
    "print(df.model.value_counts())\n",
    "\n",
    "# Describe the data\n",
    "print(\"Data description:\")  \n",
    "print(df.describe())\n",
    "\n"
   ]
  },
  {
   "cell_type": "markdown",
   "metadata": {},
   "source": [
    "#### Compare run times on different machines - Load all columns\n",
    "\n",
    "| Team Member        | Operating System | RAM  | Processor              | Is SSD | Time taken |\n",
    "|:------------------:|:----------------:|:----:|:----------------------:|:------:|:----------:|\n",
    "| Rakesh Pandey      | Ubuntu 20.04     | 32GB | Intel® Core™ i7-10870H | Yes    | 1min 0s   |\n",
    "| Mahsa Sarafrazi    | Windows 11 64-bit   | 8 GB | Intel® Core™ i5-1035G4 | Yes    | 3min 37s  |\n",
    "| Gabe Fairbrother   |  Windows 10      | 32GB | Intel® Core™ i7-10875H | Yes    |   1min 18s       |\n",
    "| Michelle Wang      |  Windows 10        | 16GB | Intel® Core™ i5-11300H  |   Yes |  3min 29s          |"
   ]
  },
  {
   "cell_type": "markdown",
   "metadata": {},
   "source": [
    "#### B. Load only required columns\n"
   ]
  },
  {
   "cell_type": "code",
   "execution_count": 7,
   "metadata": {},
   "outputs": [
    {
     "data": {
      "text/plain": [
       "18"
      ]
     },
     "execution_count": 7,
     "metadata": {},
     "output_type": "execute_result"
    }
   ],
   "source": [
    "gc.collect()"
   ]
  },
  {
   "cell_type": "code",
   "execution_count": 8,
   "metadata": {},
   "outputs": [
    {
     "name": "stdout",
     "output_type": "stream",
     "text": [
      "Model counts:\n",
      "C:\\Users\\macyt\\Documents\\UBC_Class\\Labs\\525_proj\\dsci_525_group_22\\notebooks\\..\\data\\raw\\figshare\\MPI-ESM1-2-HR       5154240\n",
      "C:\\Users\\macyt\\Documents\\UBC_Class\\Labs\\525_proj\\dsci_525_group_22\\notebooks\\..\\data\\raw\\figshare\\TaiESM1             3541230\n",
      "C:\\Users\\macyt\\Documents\\UBC_Class\\Labs\\525_proj\\dsci_525_group_22\\notebooks\\..\\data\\raw\\figshare\\NorESM2-MM          3541230\n",
      "C:\\Users\\macyt\\Documents\\UBC_Class\\Labs\\525_proj\\dsci_525_group_22\\notebooks\\..\\data\\raw\\figshare\\CMCC-CM2-HR4        3541230\n",
      "C:\\Users\\macyt\\Documents\\UBC_Class\\Labs\\525_proj\\dsci_525_group_22\\notebooks\\..\\data\\raw\\figshare\\CMCC-CM2-SR5        3541230\n",
      "C:\\Users\\macyt\\Documents\\UBC_Class\\Labs\\525_proj\\dsci_525_group_22\\notebooks\\..\\data\\raw\\figshare\\CMCC-ESM2           3541230\n",
      "C:\\Users\\macyt\\Documents\\UBC_Class\\Labs\\525_proj\\dsci_525_group_22\\notebooks\\..\\data\\raw\\figshare\\SAM0-UNICON         3541153\n",
      "C:\\Users\\macyt\\Documents\\UBC_Class\\Labs\\525_proj\\dsci_525_group_22\\notebooks\\..\\data\\raw\\figshare\\FGOALS-f3-L         3219300\n",
      "C:\\Users\\macyt\\Documents\\UBC_Class\\Labs\\525_proj\\dsci_525_group_22\\notebooks\\..\\data\\raw\\figshare\\GFDL-CM4            3219300\n",
      "C:\\Users\\macyt\\Documents\\UBC_Class\\Labs\\525_proj\\dsci_525_group_22\\notebooks\\..\\data\\raw\\figshare\\GFDL-ESM4           3219300\n",
      "C:\\Users\\macyt\\Documents\\UBC_Class\\Labs\\525_proj\\dsci_525_group_22\\notebooks\\..\\data\\raw\\figshare\\EC-Earth3-Veg-LR    3037320\n",
      "C:\\Users\\macyt\\Documents\\UBC_Class\\Labs\\525_proj\\dsci_525_group_22\\notebooks\\..\\data\\raw\\figshare\\MRI-ESM2-0          3037320\n",
      "C:\\Users\\macyt\\Documents\\UBC_Class\\Labs\\525_proj\\dsci_525_group_22\\notebooks\\..\\data\\raw\\figshare\\BCC-CSM2-MR         3035340\n",
      "C:\\Users\\macyt\\Documents\\UBC_Class\\Labs\\525_proj\\dsci_525_group_22\\notebooks\\..\\data\\raw\\figshare\\MIROC6              2070900\n",
      "C:\\Users\\macyt\\Documents\\UBC_Class\\Labs\\525_proj\\dsci_525_group_22\\notebooks\\..\\data\\raw\\figshare\\ACCESS-CM2          1932840\n",
      "C:\\Users\\macyt\\Documents\\UBC_Class\\Labs\\525_proj\\dsci_525_group_22\\notebooks\\..\\data\\raw\\figshare\\ACCESS-ESM1-5       1610700\n",
      "C:\\Users\\macyt\\Documents\\UBC_Class\\Labs\\525_proj\\dsci_525_group_22\\notebooks\\..\\data\\raw\\figshare\\INM-CM5-0           1609650\n",
      "C:\\Users\\macyt\\Documents\\UBC_Class\\Labs\\525_proj\\dsci_525_group_22\\notebooks\\..\\data\\raw\\figshare\\INM-CM4-8           1609650\n",
      "C:\\Users\\macyt\\Documents\\UBC_Class\\Labs\\525_proj\\dsci_525_group_22\\notebooks\\..\\data\\raw\\figshare\\KIOST-ESM           1287720\n",
      "C:\\Users\\macyt\\Documents\\UBC_Class\\Labs\\525_proj\\dsci_525_group_22\\notebooks\\..\\data\\raw\\figshare\\FGOALS-g3           1287720\n",
      "C:\\Users\\macyt\\Documents\\UBC_Class\\Labs\\525_proj\\dsci_525_group_22\\notebooks\\..\\data\\raw\\figshare\\MPI-ESM1-2-LR        966420\n",
      "C:\\Users\\macyt\\Documents\\UBC_Class\\Labs\\525_proj\\dsci_525_group_22\\notebooks\\..\\data\\raw\\figshare\\NESM3                966420\n",
      "C:\\Users\\macyt\\Documents\\UBC_Class\\Labs\\525_proj\\dsci_525_group_22\\notebooks\\..\\data\\raw\\figshare\\AWI-ESM-1-1-LR       966420\n",
      "C:\\Users\\macyt\\Documents\\UBC_Class\\Labs\\525_proj\\dsci_525_group_22\\notebooks\\..\\data\\raw\\figshare\\MPI-ESM-1-2-HAM      966420\n",
      "C:\\Users\\macyt\\Documents\\UBC_Class\\Labs\\525_proj\\dsci_525_group_22\\notebooks\\..\\data\\raw\\figshare\\NorESM2-LM           919800\n",
      "C:\\Users\\macyt\\Documents\\UBC_Class\\Labs\\525_proj\\dsci_525_group_22\\notebooks\\..\\data\\raw\\figshare\\BCC-ESM1             551880\n",
      "C:\\Users\\macyt\\Documents\\UBC_Class\\Labs\\525_proj\\dsci_525_group_22\\notebooks\\..\\data\\raw\\figshare\\CanESM5              551880\n",
      "Name: model, dtype: int64\n",
      "Data description:\n",
      "       rain (mm/day)\n",
      "count   5.924854e+07\n",
      "mean    1.901170e+00\n",
      "std     5.585735e+00\n",
      "min    -3.807373e-12\n",
      "25%     3.838413e-06\n",
      "50%     6.154947e-02\n",
      "75%     1.020918e+00\n",
      "max     4.329395e+02\n",
      "Model counts:\n",
      "C:\\Users\\macyt\\Documents\\UBC_Class\\Labs\\525_proj\\dsci_525_group_22\\notebooks\\..\\data\\raw\\figshare\\MPI-ESM1-2-HR       5154240\n",
      "C:\\Users\\macyt\\Documents\\UBC_Class\\Labs\\525_proj\\dsci_525_group_22\\notebooks\\..\\data\\raw\\figshare\\TaiESM1             3541230\n",
      "C:\\Users\\macyt\\Documents\\UBC_Class\\Labs\\525_proj\\dsci_525_group_22\\notebooks\\..\\data\\raw\\figshare\\NorESM2-MM          3541230\n",
      "C:\\Users\\macyt\\Documents\\UBC_Class\\Labs\\525_proj\\dsci_525_group_22\\notebooks\\..\\data\\raw\\figshare\\CMCC-CM2-HR4        3541230\n",
      "C:\\Users\\macyt\\Documents\\UBC_Class\\Labs\\525_proj\\dsci_525_group_22\\notebooks\\..\\data\\raw\\figshare\\CMCC-CM2-SR5        3541230\n",
      "C:\\Users\\macyt\\Documents\\UBC_Class\\Labs\\525_proj\\dsci_525_group_22\\notebooks\\..\\data\\raw\\figshare\\CMCC-ESM2           3541230\n",
      "C:\\Users\\macyt\\Documents\\UBC_Class\\Labs\\525_proj\\dsci_525_group_22\\notebooks\\..\\data\\raw\\figshare\\SAM0-UNICON         3541153\n",
      "C:\\Users\\macyt\\Documents\\UBC_Class\\Labs\\525_proj\\dsci_525_group_22\\notebooks\\..\\data\\raw\\figshare\\FGOALS-f3-L         3219300\n",
      "C:\\Users\\macyt\\Documents\\UBC_Class\\Labs\\525_proj\\dsci_525_group_22\\notebooks\\..\\data\\raw\\figshare\\GFDL-CM4            3219300\n",
      "C:\\Users\\macyt\\Documents\\UBC_Class\\Labs\\525_proj\\dsci_525_group_22\\notebooks\\..\\data\\raw\\figshare\\GFDL-ESM4           3219300\n",
      "C:\\Users\\macyt\\Documents\\UBC_Class\\Labs\\525_proj\\dsci_525_group_22\\notebooks\\..\\data\\raw\\figshare\\EC-Earth3-Veg-LR    3037320\n",
      "C:\\Users\\macyt\\Documents\\UBC_Class\\Labs\\525_proj\\dsci_525_group_22\\notebooks\\..\\data\\raw\\figshare\\MRI-ESM2-0          3037320\n",
      "C:\\Users\\macyt\\Documents\\UBC_Class\\Labs\\525_proj\\dsci_525_group_22\\notebooks\\..\\data\\raw\\figshare\\BCC-CSM2-MR         3035340\n",
      "C:\\Users\\macyt\\Documents\\UBC_Class\\Labs\\525_proj\\dsci_525_group_22\\notebooks\\..\\data\\raw\\figshare\\MIROC6              2070900\n",
      "C:\\Users\\macyt\\Documents\\UBC_Class\\Labs\\525_proj\\dsci_525_group_22\\notebooks\\..\\data\\raw\\figshare\\ACCESS-CM2          1932840\n",
      "C:\\Users\\macyt\\Documents\\UBC_Class\\Labs\\525_proj\\dsci_525_group_22\\notebooks\\..\\data\\raw\\figshare\\ACCESS-ESM1-5       1610700\n",
      "C:\\Users\\macyt\\Documents\\UBC_Class\\Labs\\525_proj\\dsci_525_group_22\\notebooks\\..\\data\\raw\\figshare\\INM-CM5-0           1609650\n",
      "C:\\Users\\macyt\\Documents\\UBC_Class\\Labs\\525_proj\\dsci_525_group_22\\notebooks\\..\\data\\raw\\figshare\\INM-CM4-8           1609650\n",
      "C:\\Users\\macyt\\Documents\\UBC_Class\\Labs\\525_proj\\dsci_525_group_22\\notebooks\\..\\data\\raw\\figshare\\KIOST-ESM           1287720\n",
      "C:\\Users\\macyt\\Documents\\UBC_Class\\Labs\\525_proj\\dsci_525_group_22\\notebooks\\..\\data\\raw\\figshare\\FGOALS-g3           1287720\n",
      "C:\\Users\\macyt\\Documents\\UBC_Class\\Labs\\525_proj\\dsci_525_group_22\\notebooks\\..\\data\\raw\\figshare\\MPI-ESM1-2-LR        966420\n",
      "C:\\Users\\macyt\\Documents\\UBC_Class\\Labs\\525_proj\\dsci_525_group_22\\notebooks\\..\\data\\raw\\figshare\\NESM3                966420\n",
      "C:\\Users\\macyt\\Documents\\UBC_Class\\Labs\\525_proj\\dsci_525_group_22\\notebooks\\..\\data\\raw\\figshare\\AWI-ESM-1-1-LR       966420\n",
      "C:\\Users\\macyt\\Documents\\UBC_Class\\Labs\\525_proj\\dsci_525_group_22\\notebooks\\..\\data\\raw\\figshare\\MPI-ESM-1-2-HAM      966420\n",
      "C:\\Users\\macyt\\Documents\\UBC_Class\\Labs\\525_proj\\dsci_525_group_22\\notebooks\\..\\data\\raw\\figshare\\NorESM2-LM           919800\n",
      "C:\\Users\\macyt\\Documents\\UBC_Class\\Labs\\525_proj\\dsci_525_group_22\\notebooks\\..\\data\\raw\\figshare\\BCC-ESM1             551880\n",
      "C:\\Users\\macyt\\Documents\\UBC_Class\\Labs\\525_proj\\dsci_525_group_22\\notebooks\\..\\data\\raw\\figshare\\CanESM5              551880\n",
      "Name: model, dtype: int64\n",
      "Data description:\n",
      "       rain (mm/day)\n",
      "count   5.924854e+07\n",
      "mean    1.901170e+00\n",
      "std     5.585735e+00\n",
      "min    -3.807373e-12\n",
      "25%     3.838413e-06\n",
      "50%     6.154947e-02\n",
      "75%     1.020918e+00\n",
      "max     4.329395e+02\n",
      "3min 15s ± 0 ns per loop (mean ± std. dev. of 1 run, 1 loop each)\n"
     ]
    }
   ],
   "source": [
    "%%timeit -r 1\n",
    "use_cols = [\"time\", \"rain (mm/day)\", \"model\"]\n",
    "df = pd.read_csv(\n",
    "    os.path.join(out_processed_dir, \"processed_rainfall.csv\"),\n",
    "    index_col=0,\n",
    "    parse_dates=True,\n",
    "    usecols=use_cols,\n",
    ")\n",
    "\n",
    "# Get the model counts\n",
    "print(\"Model counts:\")\n",
    "print(df.model.value_counts())\n",
    "\n",
    "# Describe the data\n",
    "print(\"Data description:\")\n",
    "print(df.describe())\n"
   ]
  },
  {
   "cell_type": "markdown",
   "metadata": {},
   "source": [
    "#### Compare run times on different machines - Load only required cols\n",
    "\n",
    "| Team Member        | Operating System | RAM  | Processor              | Is SSD | Time taken |\n",
    "|:------------------:|:----------------:|:----:|:----------------------:|:------:|:----------:|\n",
    "| Rakesh Pandey      | Ubuntu 20.04     | 32GB | Intel® Core™ i7-10870H | Yes    | 46.8s      |\n",
    "| Mahsa Sarafrazi    | Windows 64-bit   | 8 GB | Intel® Core™ i5-1035G4 | Yes    | 7min 34s  |\n",
    "| Gabe Fairbrother   |  Windows 10      | 32GB | Intel® Core™ i7-10875H | Yes    |    1min 26s      |\n",
    "| Michelle Wang      | Windows 10        | 16GB | Intel® Core™ i5-11300H  |   Yes |   3min 15s         |"
   ]
  },
  {
   "cell_type": "markdown",
   "metadata": {},
   "source": [
    "> We can see that time is now slightly reduced: loading required columns reduced time taken for most of us - 3 out of 4 members (previously from about 1 minutes+ to now under 1 minute)."
   ]
  },
  {
   "cell_type": "markdown",
   "metadata": {},
   "source": [
    "#### C. Change dtype and use only required columns"
   ]
  },
  {
   "cell_type": "code",
   "execution_count": 9,
   "metadata": {},
   "outputs": [
    {
     "name": "stdout",
     "output_type": "stream",
     "text": [
      "Model counts:\n",
      "C:\\Users\\macyt\\Documents\\UBC_Class\\Labs\\525_proj\\dsci_525_group_22\\notebooks\\..\\data\\raw\\figshare\\MPI-ESM1-2-HR       5154240\n",
      "C:\\Users\\macyt\\Documents\\UBC_Class\\Labs\\525_proj\\dsci_525_group_22\\notebooks\\..\\data\\raw\\figshare\\TaiESM1             3541230\n",
      "C:\\Users\\macyt\\Documents\\UBC_Class\\Labs\\525_proj\\dsci_525_group_22\\notebooks\\..\\data\\raw\\figshare\\NorESM2-MM          3541230\n",
      "C:\\Users\\macyt\\Documents\\UBC_Class\\Labs\\525_proj\\dsci_525_group_22\\notebooks\\..\\data\\raw\\figshare\\CMCC-CM2-HR4        3541230\n",
      "C:\\Users\\macyt\\Documents\\UBC_Class\\Labs\\525_proj\\dsci_525_group_22\\notebooks\\..\\data\\raw\\figshare\\CMCC-CM2-SR5        3541230\n",
      "C:\\Users\\macyt\\Documents\\UBC_Class\\Labs\\525_proj\\dsci_525_group_22\\notebooks\\..\\data\\raw\\figshare\\CMCC-ESM2           3541230\n",
      "C:\\Users\\macyt\\Documents\\UBC_Class\\Labs\\525_proj\\dsci_525_group_22\\notebooks\\..\\data\\raw\\figshare\\SAM0-UNICON         3541153\n",
      "C:\\Users\\macyt\\Documents\\UBC_Class\\Labs\\525_proj\\dsci_525_group_22\\notebooks\\..\\data\\raw\\figshare\\FGOALS-f3-L         3219300\n",
      "C:\\Users\\macyt\\Documents\\UBC_Class\\Labs\\525_proj\\dsci_525_group_22\\notebooks\\..\\data\\raw\\figshare\\GFDL-CM4            3219300\n",
      "C:\\Users\\macyt\\Documents\\UBC_Class\\Labs\\525_proj\\dsci_525_group_22\\notebooks\\..\\data\\raw\\figshare\\GFDL-ESM4           3219300\n",
      "C:\\Users\\macyt\\Documents\\UBC_Class\\Labs\\525_proj\\dsci_525_group_22\\notebooks\\..\\data\\raw\\figshare\\EC-Earth3-Veg-LR    3037320\n",
      "C:\\Users\\macyt\\Documents\\UBC_Class\\Labs\\525_proj\\dsci_525_group_22\\notebooks\\..\\data\\raw\\figshare\\MRI-ESM2-0          3037320\n",
      "C:\\Users\\macyt\\Documents\\UBC_Class\\Labs\\525_proj\\dsci_525_group_22\\notebooks\\..\\data\\raw\\figshare\\BCC-CSM2-MR         3035340\n",
      "C:\\Users\\macyt\\Documents\\UBC_Class\\Labs\\525_proj\\dsci_525_group_22\\notebooks\\..\\data\\raw\\figshare\\MIROC6              2070900\n",
      "C:\\Users\\macyt\\Documents\\UBC_Class\\Labs\\525_proj\\dsci_525_group_22\\notebooks\\..\\data\\raw\\figshare\\ACCESS-CM2          1932840\n",
      "C:\\Users\\macyt\\Documents\\UBC_Class\\Labs\\525_proj\\dsci_525_group_22\\notebooks\\..\\data\\raw\\figshare\\ACCESS-ESM1-5       1610700\n",
      "C:\\Users\\macyt\\Documents\\UBC_Class\\Labs\\525_proj\\dsci_525_group_22\\notebooks\\..\\data\\raw\\figshare\\INM-CM5-0           1609650\n",
      "C:\\Users\\macyt\\Documents\\UBC_Class\\Labs\\525_proj\\dsci_525_group_22\\notebooks\\..\\data\\raw\\figshare\\INM-CM4-8           1609650\n",
      "C:\\Users\\macyt\\Documents\\UBC_Class\\Labs\\525_proj\\dsci_525_group_22\\notebooks\\..\\data\\raw\\figshare\\KIOST-ESM           1287720\n",
      "C:\\Users\\macyt\\Documents\\UBC_Class\\Labs\\525_proj\\dsci_525_group_22\\notebooks\\..\\data\\raw\\figshare\\FGOALS-g3           1287720\n",
      "C:\\Users\\macyt\\Documents\\UBC_Class\\Labs\\525_proj\\dsci_525_group_22\\notebooks\\..\\data\\raw\\figshare\\MPI-ESM1-2-LR        966420\n",
      "C:\\Users\\macyt\\Documents\\UBC_Class\\Labs\\525_proj\\dsci_525_group_22\\notebooks\\..\\data\\raw\\figshare\\NESM3                966420\n",
      "C:\\Users\\macyt\\Documents\\UBC_Class\\Labs\\525_proj\\dsci_525_group_22\\notebooks\\..\\data\\raw\\figshare\\AWI-ESM-1-1-LR       966420\n",
      "C:\\Users\\macyt\\Documents\\UBC_Class\\Labs\\525_proj\\dsci_525_group_22\\notebooks\\..\\data\\raw\\figshare\\MPI-ESM-1-2-HAM      966420\n",
      "C:\\Users\\macyt\\Documents\\UBC_Class\\Labs\\525_proj\\dsci_525_group_22\\notebooks\\..\\data\\raw\\figshare\\NorESM2-LM           919800\n",
      "C:\\Users\\macyt\\Documents\\UBC_Class\\Labs\\525_proj\\dsci_525_group_22\\notebooks\\..\\data\\raw\\figshare\\BCC-ESM1             551880\n",
      "C:\\Users\\macyt\\Documents\\UBC_Class\\Labs\\525_proj\\dsci_525_group_22\\notebooks\\..\\data\\raw\\figshare\\CanESM5              551880\n",
      "Name: model, dtype: int64\n",
      "Data description:\n",
      "       rain (mm/day)\n",
      "count   5.924854e+07\n",
      "mean    1.901175e+00\n",
      "std     5.585735e+00\n",
      "min    -3.807373e-12\n",
      "25%     3.838413e-06\n",
      "50%     6.154947e-02\n",
      "75%     1.020918e+00\n",
      "max     4.329395e+02\n",
      "Model counts:\n",
      "C:\\Users\\macyt\\Documents\\UBC_Class\\Labs\\525_proj\\dsci_525_group_22\\notebooks\\..\\data\\raw\\figshare\\MPI-ESM1-2-HR       5154240\n",
      "C:\\Users\\macyt\\Documents\\UBC_Class\\Labs\\525_proj\\dsci_525_group_22\\notebooks\\..\\data\\raw\\figshare\\TaiESM1             3541230\n",
      "C:\\Users\\macyt\\Documents\\UBC_Class\\Labs\\525_proj\\dsci_525_group_22\\notebooks\\..\\data\\raw\\figshare\\NorESM2-MM          3541230\n",
      "C:\\Users\\macyt\\Documents\\UBC_Class\\Labs\\525_proj\\dsci_525_group_22\\notebooks\\..\\data\\raw\\figshare\\CMCC-CM2-HR4        3541230\n",
      "C:\\Users\\macyt\\Documents\\UBC_Class\\Labs\\525_proj\\dsci_525_group_22\\notebooks\\..\\data\\raw\\figshare\\CMCC-CM2-SR5        3541230\n",
      "C:\\Users\\macyt\\Documents\\UBC_Class\\Labs\\525_proj\\dsci_525_group_22\\notebooks\\..\\data\\raw\\figshare\\CMCC-ESM2           3541230\n",
      "C:\\Users\\macyt\\Documents\\UBC_Class\\Labs\\525_proj\\dsci_525_group_22\\notebooks\\..\\data\\raw\\figshare\\SAM0-UNICON         3541153\n",
      "C:\\Users\\macyt\\Documents\\UBC_Class\\Labs\\525_proj\\dsci_525_group_22\\notebooks\\..\\data\\raw\\figshare\\FGOALS-f3-L         3219300\n",
      "C:\\Users\\macyt\\Documents\\UBC_Class\\Labs\\525_proj\\dsci_525_group_22\\notebooks\\..\\data\\raw\\figshare\\GFDL-CM4            3219300\n",
      "C:\\Users\\macyt\\Documents\\UBC_Class\\Labs\\525_proj\\dsci_525_group_22\\notebooks\\..\\data\\raw\\figshare\\GFDL-ESM4           3219300\n",
      "C:\\Users\\macyt\\Documents\\UBC_Class\\Labs\\525_proj\\dsci_525_group_22\\notebooks\\..\\data\\raw\\figshare\\EC-Earth3-Veg-LR    3037320\n",
      "C:\\Users\\macyt\\Documents\\UBC_Class\\Labs\\525_proj\\dsci_525_group_22\\notebooks\\..\\data\\raw\\figshare\\MRI-ESM2-0          3037320\n",
      "C:\\Users\\macyt\\Documents\\UBC_Class\\Labs\\525_proj\\dsci_525_group_22\\notebooks\\..\\data\\raw\\figshare\\BCC-CSM2-MR         3035340\n",
      "C:\\Users\\macyt\\Documents\\UBC_Class\\Labs\\525_proj\\dsci_525_group_22\\notebooks\\..\\data\\raw\\figshare\\MIROC6              2070900\n",
      "C:\\Users\\macyt\\Documents\\UBC_Class\\Labs\\525_proj\\dsci_525_group_22\\notebooks\\..\\data\\raw\\figshare\\ACCESS-CM2          1932840\n",
      "C:\\Users\\macyt\\Documents\\UBC_Class\\Labs\\525_proj\\dsci_525_group_22\\notebooks\\..\\data\\raw\\figshare\\ACCESS-ESM1-5       1610700\n",
      "C:\\Users\\macyt\\Documents\\UBC_Class\\Labs\\525_proj\\dsci_525_group_22\\notebooks\\..\\data\\raw\\figshare\\INM-CM5-0           1609650\n",
      "C:\\Users\\macyt\\Documents\\UBC_Class\\Labs\\525_proj\\dsci_525_group_22\\notebooks\\..\\data\\raw\\figshare\\INM-CM4-8           1609650\n",
      "C:\\Users\\macyt\\Documents\\UBC_Class\\Labs\\525_proj\\dsci_525_group_22\\notebooks\\..\\data\\raw\\figshare\\KIOST-ESM           1287720\n",
      "C:\\Users\\macyt\\Documents\\UBC_Class\\Labs\\525_proj\\dsci_525_group_22\\notebooks\\..\\data\\raw\\figshare\\FGOALS-g3           1287720\n",
      "C:\\Users\\macyt\\Documents\\UBC_Class\\Labs\\525_proj\\dsci_525_group_22\\notebooks\\..\\data\\raw\\figshare\\MPI-ESM1-2-LR        966420\n",
      "C:\\Users\\macyt\\Documents\\UBC_Class\\Labs\\525_proj\\dsci_525_group_22\\notebooks\\..\\data\\raw\\figshare\\NESM3                966420\n",
      "C:\\Users\\macyt\\Documents\\UBC_Class\\Labs\\525_proj\\dsci_525_group_22\\notebooks\\..\\data\\raw\\figshare\\AWI-ESM-1-1-LR       966420\n",
      "C:\\Users\\macyt\\Documents\\UBC_Class\\Labs\\525_proj\\dsci_525_group_22\\notebooks\\..\\data\\raw\\figshare\\MPI-ESM-1-2-HAM      966420\n",
      "C:\\Users\\macyt\\Documents\\UBC_Class\\Labs\\525_proj\\dsci_525_group_22\\notebooks\\..\\data\\raw\\figshare\\NorESM2-LM           919800\n",
      "C:\\Users\\macyt\\Documents\\UBC_Class\\Labs\\525_proj\\dsci_525_group_22\\notebooks\\..\\data\\raw\\figshare\\BCC-ESM1             551880\n",
      "C:\\Users\\macyt\\Documents\\UBC_Class\\Labs\\525_proj\\dsci_525_group_22\\notebooks\\..\\data\\raw\\figshare\\CanESM5              551880\n",
      "Name: model, dtype: int64\n",
      "Data description:\n",
      "       rain (mm/day)\n",
      "count   5.924854e+07\n",
      "mean    1.901175e+00\n",
      "std     5.585735e+00\n",
      "min    -3.807373e-12\n",
      "25%     3.838413e-06\n",
      "50%     6.154947e-02\n",
      "75%     1.020918e+00\n",
      "max     4.329395e+02\n",
      "2min 58s ± 0 ns per loop (mean ± std. dev. of 1 run, 1 loop each)\n"
     ]
    }
   ],
   "source": [
    "%%timeit -r 1\n",
    "\n",
    "use_cols = [\"time\", \"rain (mm/day)\", \"model\"]\n",
    "dtypes = {\"rain (mm/day)\": \"float32\", \"model\": \"str\"}\n",
    "\n",
    "df = pd.read_csv(\n",
    "    os.path.join(out_processed_dir, \"processed_rainfall.csv\"),\n",
    "    index_col=0,\n",
    "    parse_dates=True,\n",
    "    usecols=use_cols,\n",
    "    dtype=dtypes,\n",
    ")\n",
    "\n",
    "# Get the model counts\n",
    "print(\"Model counts:\")\n",
    "print(df.model.value_counts())\n",
    "\n",
    "# Describe the data\n",
    "print(\"Data description:\")\n",
    "print(df.describe())\n",
    "\n"
   ]
  },
  {
   "cell_type": "markdown",
   "metadata": {},
   "source": [
    "#### Compare run times on different machines - Change dtype and load required cols\n",
    "\n",
    "| Team Member        | Operating System | RAM  | Processor              | Is SSD | Time taken |\n",
    "|:------------------:|:----------------:|:----:|:----------------------:|:------:|:----------:|\n",
    "| Rakesh Pandey      | Ubuntu 20.04     | 32GB | Intel® Core™ i7-10870H | Yes    | 46.1s      |\n",
    "| Mahsa Sarafrazi    | Windows 11 64-bit   | 8 GB | Intel® Core™ i5-1035G4 | Yes    | 9min 55s   |\n",
    "| Gabe Fairbrother   |  Windows 10      | 32GB | Intel® Core™ i7-10875H | Yes    |    1min 21s|\n",
    "| Michelle Wang      |  Windows 10        | 16GB | Intel® Core™ i5-11300H  |   Yes |   2min 58s         |"
   ]
  },
  {
   "cell_type": "markdown",
   "metadata": {},
   "source": [
    "> Adding onto the above, changing dtype has further reduced our time for most of us (3 out of 4 members) slightly. "
   ]
  },
  {
   "cell_type": "markdown",
   "metadata": {},
   "source": [
    "#### D. Use chunks"
   ]
  },
  {
   "cell_type": "code",
   "execution_count": 10,
   "metadata": {},
   "outputs": [
    {
     "data": {
      "text/plain": [
       "39"
      ]
     },
     "execution_count": 10,
     "metadata": {},
     "output_type": "execute_result"
    }
   ],
   "source": [
    "gc.collect()"
   ]
  },
  {
   "cell_type": "code",
   "execution_count": 17,
   "metadata": {},
   "outputs": [
    {
     "name": "stdout",
     "output_type": "stream",
     "text": [
      "1min 49s ± 0 ns per loop (mean ± std. dev. of 1 run, 1 loop each)\n"
     ]
    }
   ],
   "source": [
    "%%timeit -r 1\n",
    "\n",
    "df = pd.DataFrame()\n",
    "counts = pd.Series(dtype=int)\n",
    "\n",
    "for chunk in pd.read_csv(\n",
    "    os.path.join(out_processed_dir, \"processed_rainfall.csv\"),\n",
    "    index_col=0,\n",
    "    parse_dates=True, \n",
    "    chunksize=1_000_000):\n",
    "    df = pd.concat([df, chunk])\n",
    "    \n",
    "\n",
    "# Get the model counts\n",
    "print(\"Model counts:\")\n",
    "print(df.model.value_counts())\n",
    "\n",
    "# Describe the data   \n",
    "print(\"Data description:\")\n",
    "print(df.describe())"
   ]
  },
  {
   "cell_type": "markdown",
   "metadata": {},
   "source": [
    "#### Compare run times on different machines - Chunking\n",
    "\n",
    "| Team Member        | Operating System | RAM  | Processor              | Is SSD | Time taken |\n",
    "|:------------------:|:----------------:|:----:|:----------------------:|:------:|:----------:|\n",
    "| Rakesh Pandey      | Ubuntu 20.04     | 32GB | Intel® Core™ i7-10870H | Yes    | 1min 34s   |\n",
    "| Mahsa Sarafrazi    | Windows 64-bit   | 8 GB | Intel® Core™ i5-1035G4 | Yes    | 5min 44s   | \n",
    "| Gabe Fairbrother   |  Windows 10      | 32GB | Intel® Core™ i7-10875H | Yes    |     2min 12s      |\n",
    "| Michelle Wang      |  Windows 10        | 16GB | Intel® Core™ i5-11300H  |   Yes  |    3min 50s        |"
   ]
  },
  {
   "cell_type": "markdown",
   "metadata": {},
   "source": [
    "> For chunking, it seems like there is not much improvement for most of us."
   ]
  },
  {
   "cell_type": "markdown",
   "metadata": {},
   "source": [
    "**EDA Python Conclusion:**\n",
    "After trying out a few techinques, we can conclude that both loading the required columns and changing datatypes are effective ways of reducing runtime."
   ]
  },
  {
   "cell_type": "markdown",
   "metadata": {
    "tags": []
   },
   "source": [
    "**Plotting**\n"
   ]
  },
  {
   "cell_type": "markdown",
   "metadata": {
    "tags": []
   },
   "source": [
    "##### Reading the Dataframe:"
   ]
  },
  {
   "cell_type": "code",
   "execution_count": 14,
   "metadata": {
    "tags": []
   },
   "outputs": [
    {
     "data": {
      "text/html": [
       "<div>\n",
       "<style scoped>\n",
       "    .dataframe tbody tr th:only-of-type {\n",
       "        vertical-align: middle;\n",
       "    }\n",
       "\n",
       "    .dataframe tbody tr th {\n",
       "        vertical-align: top;\n",
       "    }\n",
       "\n",
       "    .dataframe thead th {\n",
       "        text-align: right;\n",
       "    }\n",
       "</style>\n",
       "<table border=\"1\" class=\"dataframe\">\n",
       "  <thead>\n",
       "    <tr style=\"text-align: right;\">\n",
       "      <th></th>\n",
       "      <th>rain (mm/day)</th>\n",
       "      <th>model</th>\n",
       "    </tr>\n",
       "    <tr>\n",
       "      <th>time</th>\n",
       "      <th></th>\n",
       "      <th></th>\n",
       "    </tr>\n",
       "  </thead>\n",
       "  <tbody>\n",
       "    <tr>\n",
       "      <th>1889-01-01 12:00:00</th>\n",
       "      <td>3.293256e-13</td>\n",
       "      <td>C:\\Users\\macyt\\Documents\\UBC_Class\\Labs\\525_pr...</td>\n",
       "    </tr>\n",
       "    <tr>\n",
       "      <th>1889-01-02 12:00:00</th>\n",
       "      <td>0.000000e+00</td>\n",
       "      <td>C:\\Users\\macyt\\Documents\\UBC_Class\\Labs\\525_pr...</td>\n",
       "    </tr>\n",
       "    <tr>\n",
       "      <th>1889-01-03 12:00:00</th>\n",
       "      <td>0.000000e+00</td>\n",
       "      <td>C:\\Users\\macyt\\Documents\\UBC_Class\\Labs\\525_pr...</td>\n",
       "    </tr>\n",
       "    <tr>\n",
       "      <th>1889-01-04 12:00:00</th>\n",
       "      <td>0.000000e+00</td>\n",
       "      <td>C:\\Users\\macyt\\Documents\\UBC_Class\\Labs\\525_pr...</td>\n",
       "    </tr>\n",
       "    <tr>\n",
       "      <th>1889-01-05 12:00:00</th>\n",
       "      <td>1.047658e-02</td>\n",
       "      <td>C:\\Users\\macyt\\Documents\\UBC_Class\\Labs\\525_pr...</td>\n",
       "    </tr>\n",
       "  </tbody>\n",
       "</table>\n",
       "</div>"
      ],
      "text/plain": [
       "                     rain (mm/day)  \\\n",
       "time                                 \n",
       "1889-01-01 12:00:00   3.293256e-13   \n",
       "1889-01-02 12:00:00   0.000000e+00   \n",
       "1889-01-03 12:00:00   0.000000e+00   \n",
       "1889-01-04 12:00:00   0.000000e+00   \n",
       "1889-01-05 12:00:00   1.047658e-02   \n",
       "\n",
       "                                                                 model  \n",
       "time                                                                    \n",
       "1889-01-01 12:00:00  C:\\Users\\macyt\\Documents\\UBC_Class\\Labs\\525_pr...  \n",
       "1889-01-02 12:00:00  C:\\Users\\macyt\\Documents\\UBC_Class\\Labs\\525_pr...  \n",
       "1889-01-03 12:00:00  C:\\Users\\macyt\\Documents\\UBC_Class\\Labs\\525_pr...  \n",
       "1889-01-04 12:00:00  C:\\Users\\macyt\\Documents\\UBC_Class\\Labs\\525_pr...  \n",
       "1889-01-05 12:00:00  C:\\Users\\macyt\\Documents\\UBC_Class\\Labs\\525_pr...  "
      ]
     },
     "execution_count": 14,
     "metadata": {},
     "output_type": "execute_result"
    }
   ],
   "source": [
    "# df = pd.read_csv(\n",
    "#     os.path.join(out_processed_dir, \"processed_rainfall.csv\"),\n",
    "#     index_col=0,\n",
    "#     usecols=[\"time\", \"rain (mm/day)\", \"model\"],\n",
    "#     parse_dates=True,\n",
    "# )\n",
    "# df.head()"
   ]
  },
  {
   "cell_type": "markdown",
   "metadata": {
    "tags": []
   },
   "source": [
    "##### Sampling 1_000_000 rows"
   ]
  },
  {
   "cell_type": "code",
   "execution_count": null,
   "metadata": {
    "tags": []
   },
   "outputs": [],
   "source": [
    "# df_sample = df.sample(n=1000000, random_state=42)\n",
    "# df_sample.to_csv(os.path.join(out_processed_dir, \"EDA.csv\"))"
   ]
  },
  {
   "cell_type": "markdown",
   "metadata": {
    "tags": []
   },
   "source": [
    "##### Rainfall distribution:"
   ]
  },
  {
   "cell_type": "code",
   "execution_count": null,
   "metadata": {
    "tags": []
   },
   "outputs": [],
   "source": [
    "# plot = (\n",
    "#     alt.Chart(df_sample, title=\"Total rain distribution\")\n",
    "#     .mark_boxplot(extent=\"min-max\")\n",
    "#     .encode(alt.X(\"rain (mm/day)\"))\n",
    "# )\n",
    "# plot"
   ]
  },
  {
   "cell_type": "markdown",
   "metadata": {
    "tags": []
   },
   "source": [
    "##### Rainfall distribution based on model:"
   ]
  },
  {
   "cell_type": "code",
   "execution_count": null,
   "metadata": {
    "tags": []
   },
   "outputs": [],
   "source": [
    "# plot = (\n",
    "#     alt.Chart(df_sample, title=\"Rain distribution based on model\")\n",
    "#     .mark_boxplot(extent=\"min-max\")\n",
    "#     .encode(\n",
    "#         alt.X(\"rain (mm/day)\"),\n",
    "#         alt.Y(\n",
    "#             \"model\",\n",
    "#             sort=alt.EncodingSortField(\n",
    "#                 field=\"rain (mm/day)\", op=\"median\", order=\"descending\"\n",
    "#             ),\n",
    "#         ),\n",
    "#         color=\"model\",\n",
    "#     )\n",
    "# )\n",
    "# plot"
   ]
  },
  {
   "cell_type": "markdown",
   "metadata": {
    "tags": []
   },
   "source": [
    "#### Rainfall histogram based on model"
   ]
  },
  {
   "cell_type": "code",
   "execution_count": null,
   "metadata": {},
   "outputs": [],
   "source": [
    "# alt.data_transformers.disable_max_rows()\n",
    "# plot_hist = (\n",
    "#     alt.Chart(df_sample, title=\"Rain fall histogram based on model\")\n",
    "#     .mark_bar()\n",
    "#     .encode(alt.X(\"rain (mm/day)\"), alt.Y(\"count():Q\"), color=\"model\")\n",
    "#     .properties(width=180, height=180)\n",
    "#     .facet(facet=\"model\", columns=9)\n",
    "# )\n",
    "# plot_hist"
   ]
  },
  {
   "cell_type": "markdown",
   "metadata": {},
   "source": [
    "### 6. Perform a simple EDA in R"
   ]
  },
  {
   "cell_type": "markdown",
   "metadata": {},
   "source": [
    "We shall try out a few methods with simple EDA to test the efficiency of each method to convert data into R formats: Parquet file, Feather and Arrow."
   ]
  },
  {
   "cell_type": "code",
   "execution_count": 13,
   "metadata": {},
   "outputs": [],
   "source": [
    "# Create df with only the model column\n",
    "\n",
    "out_processed_dir = os.path.join(os.getcwd(), \"..\", \"data\", \"processed\", \"figshare\")\n",
    "use_cols = [\"model\"]\n",
    "dtypes = {\"model\": \"str\"}\n",
    "\n",
    "df = pd.read_csv(\n",
    "    os.path.join(out_processed_dir, \"processed_rainfall.csv\"),\n",
    "    index_col=0,\n",
    "    parse_dates=True,\n",
    "    usecols=use_cols,\n",
    "    dtype=dtypes,\n",
    ")"
   ]
  },
  {
   "cell_type": "markdown",
   "metadata": {},
   "source": [
    "#### a) Parquet file method"
   ]
  },
  {
   "cell_type": "code",
   "execution_count": 14,
   "metadata": {},
   "outputs": [
    {
     "name": "stdout",
     "output_type": "stream",
     "text": [
      "CPU times: total: 21.2 s\n",
      "Wall time: 22.6 s\n"
     ]
    }
   ],
   "source": [
    "%%time\n",
    "\n",
    "if os.path.exists(os.path.join(out_processed_dir, \"rainfall.parquet\")):\n",
    "    print(\"Parquet File already exists. Skipping.\")\n",
    "else:\n",
    "    df.to_parquet(os.path.join(out_processed_dir, \"rainfall.parquet\"))"
   ]
  },
  {
   "cell_type": "code",
   "execution_count": 2,
   "metadata": {},
   "outputs": [
    {
     "name": "stderr",
     "output_type": "stream",
     "text": [
      "C:\\Users\\macyt\\miniconda3\\envs\\525_2022\\lib\\site-packages\\rpy2\\robjects\\packages.py:366: UserWarning: The symbol 'quartz' is not in this R namespace/package.\n",
      "  warnings.warn(\n"
     ]
    }
   ],
   "source": [
    "%reload_ext rpy2.ipython"
   ]
  },
  {
   "cell_type": "code",
   "execution_count": 17,
   "metadata": {},
   "outputs": [
    {
     "name": "stdout",
     "output_type": "stream",
     "text": [
      "CPU times: total: 62.5 ms\n",
      "Wall time: 85.8 ms\n"
     ]
    }
   ],
   "source": [
    "%%time\n",
    "%%R\n",
    "suppressMessages(library(arrow, warn.conflicts = FALSE))\n",
    "suppressMessages(library(dplyr, warn.conflicts = FALSE))\n",
    "library(here)\n",
    "\n",
    "ds <- open_dataset(here(\"data/processed/figshare/rainfall.parquet\"))\n",
    "result <- ds %>% count(model, sort=TRUE)\n",
    "\n",
    "# My windows comp crashes for this line! \n",
    "# print(result %>% collect)"
   ]
  },
  {
   "cell_type": "markdown",
   "metadata": {},
   "source": [
    "> To convert pandas df to parquet, it took 22.6s and then loading the 'ds' parquet file was super fast because it hasn't processed anything. "
   ]
  },
  {
   "cell_type": "markdown",
   "metadata": {},
   "source": [
    "#### b) Feather method"
   ]
  },
  {
   "cell_type": "code",
   "execution_count": 17,
   "metadata": {},
   "outputs": [
    {
     "name": "stdout",
     "output_type": "stream",
     "text": [
      "CPU times: total: 8.55 s\n",
      "Wall time: 8.56 s\n"
     ]
    }
   ],
   "source": [
    "%%time\n",
    "\n",
    "# Create feather file from pandas df\n",
    "if os.path.exists(os.path.join(out_processed_dir, \"rainfall.feather\")):\n",
    "    print(\"Feather File already exists. Skipping.\")\n",
    "else:\n",
    "    df.reset_index().to_feather(os.path.join(out_processed_dir, \"rainfall.feather\"))"
   ]
  },
  {
   "cell_type": "code",
   "execution_count": 18,
   "metadata": {},
   "outputs": [],
   "source": [
    "%%R\n",
    "suppressMessages(library(arrow, warn.conflicts = FALSE))\n",
    "suppressMessages(library(dplyr, warn.conflicts = FALSE))\n",
    "library(here)\n",
    "\n",
    "# Can't seem to read this!\n",
    "# f_df <- read_feather(here(\"data/processed/figshare/rainfall.parquet\"))"
   ]
  },
  {
   "cell_type": "markdown",
   "metadata": {},
   "source": [
    "> Converting pandas df to feather file took 8.5s. "
   ]
  },
  {
   "cell_type": "markdown",
   "metadata": {
    "tags": []
   },
   "source": [
    "#### c) Arrow method"
   ]
  },
  {
   "cell_type": "code",
   "execution_count": null,
   "metadata": {},
   "outputs": [],
   "source": [
    "# NOTE: This code crashes for my windows comp! Using the next cell instead.\n",
    "# %%time\n",
    "\n",
    "# dataset = ds.dataset(os.path.join(out_processed_dir, \"processed_rainfall.csv\"), format=\"csv\")\n",
    "# table = dataset.to_table()\n",
    "# r_table = pyra.converter.py2rpy(table)"
   ]
  },
  {
   "cell_type": "code",
   "execution_count": 5,
   "metadata": {},
   "outputs": [
    {
     "name": "stdout",
     "output_type": "stream",
     "text": [
      "CPU times: total: 7.47 s\n",
      "Wall time: 7.51 s\n"
     ]
    }
   ],
   "source": [
    "%%time\n",
    "rdf = pyra.converter.py2rpy(pa.Table.from_pandas(df))"
   ]
  },
  {
   "cell_type": "code",
   "execution_count": 21,
   "metadata": {},
   "outputs": [
    {
     "name": "stdout",
     "output_type": "stream",
     "text": [
      "\u001b[38;5;246m# A tibble: 27 x 2\u001b[39m\n",
      "   model                                                                       n\n",
      "   \u001b[3m\u001b[38;5;246m<chr>\u001b[39m\u001b[23m                                                                   \u001b[3m\u001b[38;5;246m<int>\u001b[39m\u001b[23m\n",
      "\u001b[38;5;250m 1\u001b[39m \u001b[38;5;246m\"\u001b[39mC:\\\\Users\\\\macyt\\\\Documents\\\\UBC_Class\\\\Labs\\\\525_proj\\\\dsci_525_gro~ 5.15\u001b[38;5;246me\u001b[39m6\n",
      "\u001b[38;5;250m 2\u001b[39m \u001b[38;5;246m\"\u001b[39mC:\\\\Users\\\\macyt\\\\Documents\\\\UBC_Class\\\\Labs\\\\525_proj\\\\dsci_525_gro~ 3.54\u001b[38;5;246me\u001b[39m6\n",
      "\u001b[38;5;250m 3\u001b[39m \u001b[38;5;246m\"\u001b[39mC:\\\\Users\\\\macyt\\\\Documents\\\\UBC_Class\\\\Labs\\\\525_proj\\\\dsci_525_gro~ 3.54\u001b[38;5;246me\u001b[39m6\n",
      "\u001b[38;5;250m 4\u001b[39m \u001b[38;5;246m\"\u001b[39mC:\\\\Users\\\\macyt\\\\Documents\\\\UBC_Class\\\\Labs\\\\525_proj\\\\dsci_525_gro~ 3.54\u001b[38;5;246me\u001b[39m6\n",
      "\u001b[38;5;250m 5\u001b[39m \u001b[38;5;246m\"\u001b[39mC:\\\\Users\\\\macyt\\\\Documents\\\\UBC_Class\\\\Labs\\\\525_proj\\\\dsci_525_gro~ 3.54\u001b[38;5;246me\u001b[39m6\n",
      "\u001b[38;5;250m 6\u001b[39m \u001b[38;5;246m\"\u001b[39mC:\\\\Users\\\\macyt\\\\Documents\\\\UBC_Class\\\\Labs\\\\525_proj\\\\dsci_525_gro~ 3.54\u001b[38;5;246me\u001b[39m6\n",
      "\u001b[38;5;250m 7\u001b[39m \u001b[38;5;246m\"\u001b[39mC:\\\\Users\\\\macyt\\\\Documents\\\\UBC_Class\\\\Labs\\\\525_proj\\\\dsci_525_gro~ 3.54\u001b[38;5;246me\u001b[39m6\n",
      "\u001b[38;5;250m 8\u001b[39m \u001b[38;5;246m\"\u001b[39mC:\\\\Users\\\\macyt\\\\Documents\\\\UBC_Class\\\\Labs\\\\525_proj\\\\dsci_525_gro~ 3.22\u001b[38;5;246me\u001b[39m6\n",
      "\u001b[38;5;250m 9\u001b[39m \u001b[38;5;246m\"\u001b[39mC:\\\\Users\\\\macyt\\\\Documents\\\\UBC_Class\\\\Labs\\\\525_proj\\\\dsci_525_gro~ 3.22\u001b[38;5;246me\u001b[39m6\n",
      "\u001b[38;5;250m10\u001b[39m \u001b[38;5;246m\"\u001b[39mC:\\\\Users\\\\macyt\\\\Documents\\\\UBC_Class\\\\Labs\\\\525_proj\\\\dsci_525_gro~ 3.22\u001b[38;5;246me\u001b[39m6\n",
      "\u001b[38;5;246m# ... with 17 more rows\u001b[39m\n",
      "[1] \"Data description:\"\n",
      "      Length   Class        Mode       \n",
      "model 62467843 ChunkedArray environment\n",
      "CPU times: total: 2.36 s\n",
      "Wall time: 2.52 s\n"
     ]
    }
   ],
   "source": [
    "%%time\n",
    "%%R -i rdf\n",
    "library(dplyr)\n",
    "\n",
    "# Get the model counts\n",
    "result <- rdf %>% count(model, sort=TRUE)\n",
    "print(result %>% collect())\n",
    "\n",
    "# Describe the data\n",
    "print(\"Data description:\")\n",
    "print(summary(rdf))\n"
   ]
  },
  {
   "cell_type": "markdown",
   "metadata": {},
   "source": [
    "> Converting pandas df to arrow table object is fast: only 7.5s. Then printing the results of count by models and summary of dataset was only around 2.5s."
   ]
  },
  {
   "cell_type": "markdown",
   "metadata": {},
   "source": [
    "**Final chosen approach: Arrow exchange**\n",
    "\n",
    "- After experimenting with different conversion methods to R, we concluded that the 'Arrow Exchange' method works best. \n",
    "- With parquet method, it took 26s just to convert the pandas file to parquet. And conversion to feather file format took 8.5s. The fastest was arrow which took around 7s. \n",
    "- The pyarrow package uses compiled code to efficiently convert a `pandas DataFrame` to an `Arrow` data structure, and the R arrow package can do the same from a `Arrow` data structure to a `R data.frame`.\n",
    "- The `arrow` table structure is also well-integrated with R's Dplyr package functionalities and makes EDA extremely fast and convenient, as exemplified in the code above where the printing of EDA results only took 2s.\n",
    "- Time spent on arrow's serialization/deserialization process is minimal and is also a zero-copy process."
   ]
  },
  {
   "cell_type": "markdown",
   "metadata": {},
   "source": [
    "### "
   ]
  }
 ],
 "metadata": {
  "interpreter": {
   "hash": "0431e97599bb9ae06b62e9e4cc0acb5e2f4237c339c3eea49a31a7ce8607a15c"
  },
  "kernelspec": {
   "display_name": "Python [conda env:525_2022]",
   "language": "python",
   "name": "conda-env-525_2022-py"
  },
  "language_info": {
   "codemirror_mode": {
    "name": "ipython",
    "version": 3
   },
   "file_extension": ".py",
   "mimetype": "text/x-python",
   "name": "python",
   "nbconvert_exporter": "python",
   "pygments_lexer": "ipython3",
   "version": "3.8.6"
  }
 },
 "nbformat": 4,
 "nbformat_minor": 4
}
