{
 "cells": [
  {
   "cell_type": "markdown",
   "metadata": {},
   "source": [
    "### 1. Import libraries"
   ]
  },
  {
   "cell_type": "code",
   "execution_count": 1,
   "metadata": {},
   "outputs": [],
   "source": [
    "import pandas as pd\n",
    "import requests\n",
    "import json\n",
    "import os\n",
    "import shutil\n",
    "from tqdm.auto import tqdm\n",
    "import zipfile\n",
    "import glob\n",
    "import re\n",
    "import pyarrow as pa\n",
    "import rpy2_arrow.pyarrow_rarrow as pyra\n",
    "\n",
    "import gc\n",
    "\n",
    "import warnings\n",
    "warnings.simplefilter(action='ignore', category=FutureWarning)\n"
   ]
  },
  {
   "cell_type": "markdown",
   "metadata": {},
   "source": [
    "### 2. Download the data"
   ]
  },
  {
   "cell_type": "code",
   "execution_count": 2,
   "metadata": {},
   "outputs": [
    {
     "name": "stdout",
     "output_type": "stream",
     "text": [
      "File already exists. Skipping.\n"
     ]
    }
   ],
   "source": [
    "# Metadata\n",
    "article_id = 14096681\n",
    "url = f\"https://api.figshare.com/v2/articles/{article_id}\"\n",
    "headers = {\"Content-Type\": \"application/json\"}\n",
    "out_dir = os.path.join(os.getcwd(), \"..\", \"data\", \"raw\", \"figshare\")\n",
    "file_to_download = \"data.zip\"\n",
    "\n",
    "# Get file url\n",
    "file_url = [\n",
    "    item_[\"download_url\"]\n",
    "    for item_ in requests.get(url, headers=headers).json()[\"files\"]\n",
    "    if item_[\"name\"] == file_to_download\n",
    "][0]\n",
    "\n",
    "# Check if file has already been downloaded\n",
    "if os.listdir(out_dir):\n",
    "    print(\"File already exists. Skipping.\")\n",
    "else:\n",
    "    print(f\"Writing file file {file_to_download} to directory {out_dir}\")\n",
    "\n",
    "    # Create an HTTP request\n",
    "    with requests.get(file_url, stream=True) as r:\n",
    "\n",
    "        # Check content length\n",
    "        content_length = int(r.headers.get(\"Content-Length\"))\n",
    "\n",
    "        # SDisplay progress bar\n",
    "        with tqdm.wrapattr(r.raw, \"read\", total=content_length, desc=\"\") as raw:\n",
    "\n",
    "            # Save file\n",
    "            os.makedirs(out_dir)\n",
    "            with open(os.path.join(out_dir, \n",
    "                                   file_to_download), \"wb\") as path:\n",
    "                shutil.copyfileobj(raw, path)\n",
    "\n",
    "    print(\"Download complete.\")\n",
    "\n",
    "    # Unzip file with python\n",
    "    print(\"Unzipping file...\")\n",
    "    with zipfile.ZipFile(os.path.join(out_dir, file_to_download), \"r\") as zip_ref:\n",
    "        zip_ref.extractall(out_dir) # Extract all files to directory\n",
    "        zip_ref.close()\n",
    "    print(\"Unzipping complete.\")\n"
   ]
  },
  {
   "cell_type": "markdown",
   "metadata": {},
   "source": [
    "### 3. Combining data csv"
   ]
  },
  {
   "cell_type": "code",
   "execution_count": 3,
   "metadata": {},
   "outputs": [],
   "source": [
    "out_processed_dir = os.path.join(os.getcwd(), \"..\", \"data\", \"processed\", \"figshare\")\n",
    "file_to_exclude = \"observed_daily_rainfall_SYD.csv\"\n",
    "files = glob.glob(out_dir + \"/*.csv\")"
   ]
  },
  {
   "cell_type": "code",
   "execution_count": 4,
   "metadata": {},
   "outputs": [
    {
     "name": "stdout",
     "output_type": "stream",
     "text": [
      "4min 51s ± 0 ns per loop (mean ± std. dev. of 1 run, 1 loop each)\n"
     ]
    }
   ],
   "source": [
    "%%timeit -r 1\n",
    "\n",
    "# Combine data\n",
    "df = pd.concat(\n",
    "    (\n",
    "        pd.read_csv(file, index_col=0).assign(model=re.findall(r\"[^\\/]+(?=\\_daily)\", file)[0])\n",
    "        for file in files\n",
    "        if file_to_exclude not in file\n",
    "    )\n",
    ")\n",
    "\n",
    "# Write to file\n",
    "os.makedirs(out_processed_dir, exist_ok=True)  \n",
    "df.to_csv(os.path.join(out_processed_dir, \"processed_rainfall.csv\"))\n"
   ]
  },
  {
   "cell_type": "markdown",
   "metadata": {},
   "source": [
    "#### Compare run times on different machines\n",
    "\n",
    "| Team Member        | Operating System | RAM  | Processor              | Is SSD | Time taken |\n",
    "|:------------------:|:----------------:|:----:|:----------------------:|:------:|:----------:|\n",
    "| Rakesh Pandey      | Ubuntu 20.04     | 32GB | Intel® Core™ i7-10870H | Yes    | 4min 51s   |\n",
    "| Mahsa Sarafrazi    |                  |      |                        |        |            |\n",
    "| Gabe Fairbrother   |  Windows 10      | 32GB | Intel® Core™ i7-10875H | Yes    |     6min 40s       |\n",
    "| Michelle Wang      |                  |      |                        |        |            |"
   ]
  },
  {
   "cell_type": "markdown",
   "metadata": {},
   "source": [
    "### 4. Load the combined CSV to memory and perform a simple EDA"
   ]
  },
  {
   "cell_type": "markdown",
   "metadata": {},
   "source": [
    "#### A. Load all columns"
   ]
  },
  {
   "cell_type": "code",
   "execution_count": 5,
   "metadata": {},
   "outputs": [
    {
     "data": {
      "text/plain": [
       "0"
      ]
     },
     "execution_count": 5,
     "metadata": {},
     "output_type": "execute_result"
    }
   ],
   "source": [
    "gc.collect()"
   ]
  },
  {
   "cell_type": "code",
   "execution_count": 6,
   "metadata": {},
   "outputs": [
    {
     "name": "stdout",
     "output_type": "stream",
     "text": [
      "Model counts:\n",
      "MPI-ESM1-2-HR       5154240\n",
      "CMCC-CM2-SR5        3541230\n",
      "CMCC-ESM2           3541230\n",
      "TaiESM1             3541230\n",
      "NorESM2-MM          3541230\n",
      "CMCC-CM2-HR4        3541230\n",
      "SAM0-UNICON         3541153\n",
      "GFDL-CM4            3219300\n",
      "FGOALS-f3-L         3219300\n",
      "GFDL-ESM4           3219300\n",
      "MRI-ESM2-0          3037320\n",
      "EC-Earth3-Veg-LR    3037320\n",
      "BCC-CSM2-MR         3035340\n",
      "MIROC6              2070900\n",
      "ACCESS-CM2          1932840\n",
      "ACCESS-ESM1-5       1610700\n",
      "INM-CM5-0           1609650\n",
      "INM-CM4-8           1609650\n",
      "KIOST-ESM           1287720\n",
      "FGOALS-g3           1287720\n",
      "MPI-ESM1-2-LR        966420\n",
      "NESM3                966420\n",
      "AWI-ESM-1-1-LR       966420\n",
      "MPI-ESM-1-2-HAM      966420\n",
      "NorESM2-LM           919800\n",
      "BCC-ESM1             551880\n",
      "CanESM5              551880\n",
      "Name: model, dtype: int64\n",
      "Data description:\n",
      "            lat_min       lat_max       lon_min       lon_max  rain (mm/day)\n",
      "count  5.924854e+07  6.246784e+07  5.924854e+07  6.246784e+07   5.924854e+07\n",
      "mean  -3.310482e+01 -3.197757e+01  1.469059e+02  1.482150e+02   1.901170e+00\n",
      "std    1.963549e+00  1.992067e+00  3.793784e+00  3.809994e+00   5.585735e+00\n",
      "min   -3.646739e+01 -3.600000e+01  1.406250e+02  1.412500e+02  -3.807373e-12\n",
      "25%   -3.486911e+01 -3.366221e+01  1.434375e+02  1.450000e+02   3.838413e-06\n",
      "50%   -3.300000e+01 -3.204188e+01  1.468750e+02  1.481250e+02   6.154947e-02\n",
      "75%   -3.140170e+01 -3.015707e+01  1.501875e+02  1.513125e+02   1.020918e+00\n",
      "max   -2.990000e+01 -2.790606e+01  1.537500e+02  1.556250e+02   4.329395e+02\n",
      "Model counts:\n",
      "MPI-ESM1-2-HR       5154240\n",
      "CMCC-CM2-SR5        3541230\n",
      "CMCC-ESM2           3541230\n",
      "TaiESM1             3541230\n",
      "NorESM2-MM          3541230\n",
      "CMCC-CM2-HR4        3541230\n",
      "SAM0-UNICON         3541153\n",
      "GFDL-CM4            3219300\n",
      "FGOALS-f3-L         3219300\n",
      "GFDL-ESM4           3219300\n",
      "MRI-ESM2-0          3037320\n",
      "EC-Earth3-Veg-LR    3037320\n",
      "BCC-CSM2-MR         3035340\n",
      "MIROC6              2070900\n",
      "ACCESS-CM2          1932840\n",
      "ACCESS-ESM1-5       1610700\n",
      "INM-CM5-0           1609650\n",
      "INM-CM4-8           1609650\n",
      "KIOST-ESM           1287720\n",
      "FGOALS-g3           1287720\n",
      "MPI-ESM1-2-LR        966420\n",
      "NESM3                966420\n",
      "AWI-ESM-1-1-LR       966420\n",
      "MPI-ESM-1-2-HAM      966420\n",
      "NorESM2-LM           919800\n",
      "BCC-ESM1             551880\n",
      "CanESM5              551880\n",
      "Name: model, dtype: int64\n",
      "Data description:\n",
      "            lat_min       lat_max       lon_min       lon_max  rain (mm/day)\n",
      "count  5.924854e+07  6.246784e+07  5.924854e+07  6.246784e+07   5.924854e+07\n",
      "mean  -3.310482e+01 -3.197757e+01  1.469059e+02  1.482150e+02   1.901170e+00\n",
      "std    1.963549e+00  1.992067e+00  3.793784e+00  3.809994e+00   5.585735e+00\n",
      "min   -3.646739e+01 -3.600000e+01  1.406250e+02  1.412500e+02  -3.807373e-12\n",
      "25%   -3.486911e+01 -3.366221e+01  1.434375e+02  1.450000e+02   3.838413e-06\n",
      "50%   -3.300000e+01 -3.204188e+01  1.468750e+02  1.481250e+02   6.154947e-02\n",
      "75%   -3.140170e+01 -3.015707e+01  1.501875e+02  1.513125e+02   1.020918e+00\n",
      "max   -2.990000e+01 -2.790606e+01  1.537500e+02  1.556250e+02   4.329395e+02\n",
      "1min ± 0 ns per loop (mean ± std. dev. of 1 run, 1 loop each)\n"
     ]
    }
   ],
   "source": [
    "%%timeit -r 1\n",
    "\n",
    "# Load the data\n",
    "df = pd.read_csv(os.path.join(out_processed_dir, \"processed_rainfall.csv\"), index_col=0)\n",
    "\n",
    "# Get the model counts\n",
    "print(\"Model counts:\")\n",
    "print(df.model.value_counts())\n",
    "\n",
    "# Describe the data\n",
    "print(\"Data description:\")  \n",
    "print(df.describe())\n",
    "\n"
   ]
  },
  {
   "cell_type": "markdown",
   "metadata": {},
   "source": [
    "#### Compare run times on different machines\n",
    "\n",
    "| Team Member        | Operating System | RAM  | Processor              | Is SSD | Time taken |\n",
    "|:------------------:|:----------------:|:----:|:----------------------:|:------:|:----------:|\n",
    "| Rakesh Pandey      | Ubuntu 20.04     | 32GB | Intel® Core™ i7-10870H | Yes    | 1min 0s   |\n",
    "| Mahsa Sarafrazi    |                  |      |                        |        |            |\n",
    "| Gabe Fairbrother   |  Windows 10      | 32GB | Intel® Core™ i7-10875H | Yes    |   1min 18s       |\n",
    "| Michelle Wang      |                  |      |                        |        |            |"
   ]
  },
  {
   "cell_type": "markdown",
   "metadata": {},
   "source": [
    "#### B. Load only required columns\n"
   ]
  },
  {
   "cell_type": "code",
   "execution_count": 7,
   "metadata": {},
   "outputs": [
    {
     "data": {
      "text/plain": [
       "0"
      ]
     },
     "execution_count": 7,
     "metadata": {},
     "output_type": "execute_result"
    }
   ],
   "source": [
    "gc.collect()"
   ]
  },
  {
   "cell_type": "code",
   "execution_count": 8,
   "metadata": {},
   "outputs": [
    {
     "name": "stdout",
     "output_type": "stream",
     "text": [
      "Model counts:\n",
      "MPI-ESM1-2-HR       5154240\n",
      "CMCC-CM2-SR5        3541230\n",
      "CMCC-ESM2           3541230\n",
      "TaiESM1             3541230\n",
      "NorESM2-MM          3541230\n",
      "CMCC-CM2-HR4        3541230\n",
      "SAM0-UNICON         3541153\n",
      "GFDL-CM4            3219300\n",
      "FGOALS-f3-L         3219300\n",
      "GFDL-ESM4           3219300\n",
      "MRI-ESM2-0          3037320\n",
      "EC-Earth3-Veg-LR    3037320\n",
      "BCC-CSM2-MR         3035340\n",
      "MIROC6              2070900\n",
      "ACCESS-CM2          1932840\n",
      "ACCESS-ESM1-5       1610700\n",
      "INM-CM5-0           1609650\n",
      "INM-CM4-8           1609650\n",
      "KIOST-ESM           1287720\n",
      "FGOALS-g3           1287720\n",
      "MPI-ESM1-2-LR        966420\n",
      "NESM3                966420\n",
      "AWI-ESM-1-1-LR       966420\n",
      "MPI-ESM-1-2-HAM      966420\n",
      "NorESM2-LM           919800\n",
      "BCC-ESM1             551880\n",
      "CanESM5              551880\n",
      "Name: model, dtype: int64\n",
      "Data description:\n",
      "       rain (mm/day)\n",
      "count   5.924854e+07\n",
      "mean    1.901170e+00\n",
      "std     5.585735e+00\n",
      "min    -3.807373e-12\n",
      "25%     3.838413e-06\n",
      "50%     6.154947e-02\n",
      "75%     1.020918e+00\n",
      "max     4.329395e+02\n",
      "Model counts:\n",
      "MPI-ESM1-2-HR       5154240\n",
      "CMCC-CM2-SR5        3541230\n",
      "CMCC-ESM2           3541230\n",
      "TaiESM1             3541230\n",
      "NorESM2-MM          3541230\n",
      "CMCC-CM2-HR4        3541230\n",
      "SAM0-UNICON         3541153\n",
      "GFDL-CM4            3219300\n",
      "FGOALS-f3-L         3219300\n",
      "GFDL-ESM4           3219300\n",
      "MRI-ESM2-0          3037320\n",
      "EC-Earth3-Veg-LR    3037320\n",
      "BCC-CSM2-MR         3035340\n",
      "MIROC6              2070900\n",
      "ACCESS-CM2          1932840\n",
      "ACCESS-ESM1-5       1610700\n",
      "INM-CM5-0           1609650\n",
      "INM-CM4-8           1609650\n",
      "KIOST-ESM           1287720\n",
      "FGOALS-g3           1287720\n",
      "MPI-ESM1-2-LR        966420\n",
      "NESM3                966420\n",
      "AWI-ESM-1-1-LR       966420\n",
      "MPI-ESM-1-2-HAM      966420\n",
      "NorESM2-LM           919800\n",
      "BCC-ESM1             551880\n",
      "CanESM5              551880\n",
      "Name: model, dtype: int64\n",
      "Data description:\n",
      "       rain (mm/day)\n",
      "count   5.924854e+07\n",
      "mean    1.901170e+00\n",
      "std     5.585735e+00\n",
      "min    -3.807373e-12\n",
      "25%     3.838413e-06\n",
      "50%     6.154947e-02\n",
      "75%     1.020918e+00\n",
      "max     4.329395e+02\n",
      "46.8 s ± 0 ns per loop (mean ± std. dev. of 1 run, 1 loop each)\n"
     ]
    }
   ],
   "source": [
    "%%timeit -r 1\n",
    "use_cols = [\"time\", \"rain (mm/day)\", \"model\"]\n",
    "df = pd.read_csv(\n",
    "    os.path.join(out_processed_dir, \"processed_rainfall.csv\"),\n",
    "    index_col=0,\n",
    "    parse_dates=True,\n",
    "    usecols=use_cols,\n",
    ")\n",
    "\n",
    "# Get the model counts\n",
    "print(\"Model counts:\")\n",
    "print(df.model.value_counts())\n",
    "\n",
    "# Describe the data\n",
    "print(\"Data description:\")\n",
    "print(df.describe())\n"
   ]
  },
  {
   "cell_type": "markdown",
   "metadata": {},
   "source": [
    "#### Compare run times on different machines\n",
    "\n",
    "| Team Member        | Operating System | RAM  | Processor              | Is SSD | Time taken |\n",
    "|:------------------:|:----------------:|:----:|:----------------------:|:------:|:----------:|\n",
    "| Rakesh Pandey      | Ubuntu 20.04     | 32GB | Intel® Core™ i7-10870H | Yes    | 46.8s      |\n",
    "| Mahsa Sarafrazi    |                  |      |                        |        |            |\n",
    "| Gabe Fairbrother   |  Windows 10      | 32GB | Intel® Core™ i7-10875H | Yes    |    1min 26s      |\n",
    "| Michelle Wang      |                  |      |                        |        |            |"
   ]
  },
  {
   "cell_type": "markdown",
   "metadata": {},
   "source": [
    "#### C. Change dtype and use only required columns"
   ]
  },
  {
   "cell_type": "code",
   "execution_count": 9,
   "metadata": {},
   "outputs": [
    {
     "name": "stdout",
     "output_type": "stream",
     "text": [
      "Model counts:\n",
      "MPI-ESM1-2-HR       5154240\n",
      "CMCC-CM2-SR5        3541230\n",
      "CMCC-ESM2           3541230\n",
      "TaiESM1             3541230\n",
      "NorESM2-MM          3541230\n",
      "CMCC-CM2-HR4        3541230\n",
      "SAM0-UNICON         3541153\n",
      "GFDL-CM4            3219300\n",
      "FGOALS-f3-L         3219300\n",
      "GFDL-ESM4           3219300\n",
      "MRI-ESM2-0          3037320\n",
      "EC-Earth3-Veg-LR    3037320\n",
      "BCC-CSM2-MR         3035340\n",
      "MIROC6              2070900\n",
      "ACCESS-CM2          1932840\n",
      "ACCESS-ESM1-5       1610700\n",
      "INM-CM5-0           1609650\n",
      "INM-CM4-8           1609650\n",
      "KIOST-ESM           1287720\n",
      "FGOALS-g3           1287720\n",
      "MPI-ESM1-2-LR        966420\n",
      "NESM3                966420\n",
      "AWI-ESM-1-1-LR       966420\n",
      "MPI-ESM-1-2-HAM      966420\n",
      "NorESM2-LM           919800\n",
      "BCC-ESM1             551880\n",
      "CanESM5              551880\n",
      "Name: model, dtype: int64\n",
      "Data description:\n",
      "       rain (mm/day)\n",
      "count   5.924854e+07\n",
      "mean    1.901173e+00\n",
      "std     5.585735e+00\n",
      "min    -3.807373e-12\n",
      "25%     3.838413e-06\n",
      "50%     6.154947e-02\n",
      "75%     1.020918e+00\n",
      "max     4.329395e+02\n",
      "Model counts:\n",
      "MPI-ESM1-2-HR       5154240\n",
      "CMCC-CM2-SR5        3541230\n",
      "CMCC-ESM2           3541230\n",
      "TaiESM1             3541230\n",
      "NorESM2-MM          3541230\n",
      "CMCC-CM2-HR4        3541230\n",
      "SAM0-UNICON         3541153\n",
      "GFDL-CM4            3219300\n",
      "FGOALS-f3-L         3219300\n",
      "GFDL-ESM4           3219300\n",
      "MRI-ESM2-0          3037320\n",
      "EC-Earth3-Veg-LR    3037320\n",
      "BCC-CSM2-MR         3035340\n",
      "MIROC6              2070900\n",
      "ACCESS-CM2          1932840\n",
      "ACCESS-ESM1-5       1610700\n",
      "INM-CM5-0           1609650\n",
      "INM-CM4-8           1609650\n",
      "KIOST-ESM           1287720\n",
      "FGOALS-g3           1287720\n",
      "MPI-ESM1-2-LR        966420\n",
      "NESM3                966420\n",
      "AWI-ESM-1-1-LR       966420\n",
      "MPI-ESM-1-2-HAM      966420\n",
      "NorESM2-LM           919800\n",
      "BCC-ESM1             551880\n",
      "CanESM5              551880\n",
      "Name: model, dtype: int64\n",
      "Data description:\n",
      "       rain (mm/day)\n",
      "count   5.924854e+07\n",
      "mean    1.901173e+00\n",
      "std     5.585735e+00\n",
      "min    -3.807373e-12\n",
      "25%     3.838413e-06\n",
      "50%     6.154947e-02\n",
      "75%     1.020918e+00\n",
      "max     4.329395e+02\n",
      "46.1 s ± 0 ns per loop (mean ± std. dev. of 1 run, 1 loop each)\n"
     ]
    }
   ],
   "source": [
    "%%timeit -r 1\n",
    "\n",
    "use_cols = [\"time\", \"rain (mm/day)\", \"model\"]\n",
    "dtypes = {\"rain (mm/day)\": \"float32\", \"model\": \"str\"}\n",
    "\n",
    "df = pd.read_csv(\n",
    "    os.path.join(out_processed_dir, \"processed_rainfall.csv\"),\n",
    "    index_col=0,\n",
    "    parse_dates=True,\n",
    "    usecols=use_cols,\n",
    "    dtype=dtypes,\n",
    ")\n",
    "\n",
    "# Get the model counts\n",
    "print(\"Model counts:\")\n",
    "print(df.model.value_counts())\n",
    "\n",
    "# Describe the data\n",
    "print(\"Data description:\")\n",
    "print(df.describe())\n",
    "\n"
   ]
  },
  {
   "cell_type": "markdown",
   "metadata": {},
   "source": [
    "#### Compare run times on different machines\n",
    "\n",
    "| Team Member        | Operating System | RAM  | Processor              | Is SSD | Time taken |\n",
    "|:------------------:|:----------------:|:----:|:----------------------:|:------:|:----------:|\n",
    "| Rakesh Pandey      | Ubuntu 20.04     | 32GB | Intel® Core™ i7-10870H | Yes    | 46.1s      |\n",
    "| Mahsa Sarafrazi    |                  |      |                        |        |            |\n",
    "| Gabe Fairbrother   |  Windows 10      | 32GB | Intel® Core™ i7-10875H | Yes    |    1min 21s|\n",
    "| Michelle Wang      |                  |      |                        |        |            |"
   ]
  },
  {
   "cell_type": "markdown",
   "metadata": {},
   "source": [
    "#### D. Use chunks"
   ]
  },
  {
   "cell_type": "code",
   "execution_count": 10,
   "metadata": {},
   "outputs": [
    {
     "data": {
      "text/plain": [
       "3"
      ]
     },
     "execution_count": 10,
     "metadata": {},
     "output_type": "execute_result"
    }
   ],
   "source": [
    "gc.collect()"
   ]
  },
  {
   "cell_type": "code",
   "execution_count": 11,
   "metadata": {},
   "outputs": [
    {
     "name": "stdout",
     "output_type": "stream",
     "text": [
      "Model counts:\n",
      "MPI-ESM1-2-HR       5154240\n",
      "CMCC-CM2-SR5        3541230\n",
      "CMCC-ESM2           3541230\n",
      "TaiESM1             3541230\n",
      "NorESM2-MM          3541230\n",
      "CMCC-CM2-HR4        3541230\n",
      "SAM0-UNICON         3541153\n",
      "GFDL-CM4            3219300\n",
      "FGOALS-f3-L         3219300\n",
      "GFDL-ESM4           3219300\n",
      "MRI-ESM2-0          3037320\n",
      "EC-Earth3-Veg-LR    3037320\n",
      "BCC-CSM2-MR         3035340\n",
      "MIROC6              2070900\n",
      "ACCESS-CM2          1932840\n",
      "ACCESS-ESM1-5       1610700\n",
      "INM-CM5-0           1609650\n",
      "INM-CM4-8           1609650\n",
      "KIOST-ESM           1287720\n",
      "FGOALS-g3           1287720\n",
      "MPI-ESM1-2-LR        966420\n",
      "NESM3                966420\n",
      "AWI-ESM-1-1-LR       966420\n",
      "MPI-ESM-1-2-HAM      966420\n",
      "NorESM2-LM           919800\n",
      "BCC-ESM1             551880\n",
      "CanESM5              551880\n",
      "Name: model, dtype: int64\n",
      "Data description:\n",
      "            lat_min       lat_max       lon_min       lon_max  rain (mm/day)\n",
      "count  5.924854e+07  6.246784e+07  5.924854e+07  6.246784e+07   5.924854e+07\n",
      "mean  -3.310482e+01 -3.197757e+01  1.469059e+02  1.482150e+02   1.901170e+00\n",
      "std    1.963549e+00  1.992067e+00  3.793784e+00  3.809994e+00   5.585735e+00\n",
      "min   -3.646739e+01 -3.600000e+01  1.406250e+02  1.412500e+02  -3.807373e-12\n",
      "25%   -3.486911e+01 -3.366221e+01  1.434375e+02  1.450000e+02   3.838413e-06\n",
      "50%   -3.300000e+01 -3.204188e+01  1.468750e+02  1.481250e+02   6.154947e-02\n",
      "75%   -3.140170e+01 -3.015707e+01  1.501875e+02  1.513125e+02   1.020918e+00\n",
      "max   -2.990000e+01 -2.790606e+01  1.537500e+02  1.556250e+02   4.329395e+02\n",
      "Model counts:\n",
      "MPI-ESM1-2-HR       5154240\n",
      "CMCC-CM2-SR5        3541230\n",
      "CMCC-ESM2           3541230\n",
      "TaiESM1             3541230\n",
      "NorESM2-MM          3541230\n",
      "CMCC-CM2-HR4        3541230\n",
      "SAM0-UNICON         3541153\n",
      "GFDL-CM4            3219300\n",
      "FGOALS-f3-L         3219300\n",
      "GFDL-ESM4           3219300\n",
      "MRI-ESM2-0          3037320\n",
      "EC-Earth3-Veg-LR    3037320\n",
      "BCC-CSM2-MR         3035340\n",
      "MIROC6              2070900\n",
      "ACCESS-CM2          1932840\n",
      "ACCESS-ESM1-5       1610700\n",
      "INM-CM5-0           1609650\n",
      "INM-CM4-8           1609650\n",
      "KIOST-ESM           1287720\n",
      "FGOALS-g3           1287720\n",
      "MPI-ESM1-2-LR        966420\n",
      "NESM3                966420\n",
      "AWI-ESM-1-1-LR       966420\n",
      "MPI-ESM-1-2-HAM      966420\n",
      "NorESM2-LM           919800\n",
      "BCC-ESM1             551880\n",
      "CanESM5              551880\n",
      "Name: model, dtype: int64\n",
      "Data description:\n",
      "            lat_min       lat_max       lon_min       lon_max  rain (mm/day)\n",
      "count  5.924854e+07  6.246784e+07  5.924854e+07  6.246784e+07   5.924854e+07\n",
      "mean  -3.310482e+01 -3.197757e+01  1.469059e+02  1.482150e+02   1.901170e+00\n",
      "std    1.963549e+00  1.992067e+00  3.793784e+00  3.809994e+00   5.585735e+00\n",
      "min   -3.646739e+01 -3.600000e+01  1.406250e+02  1.412500e+02  -3.807373e-12\n",
      "25%   -3.486911e+01 -3.366221e+01  1.434375e+02  1.450000e+02   3.838413e-06\n",
      "50%   -3.300000e+01 -3.204188e+01  1.468750e+02  1.481250e+02   6.154947e-02\n",
      "75%   -3.140170e+01 -3.015707e+01  1.501875e+02  1.513125e+02   1.020918e+00\n",
      "max   -2.990000e+01 -2.790606e+01  1.537500e+02  1.556250e+02   4.329395e+02\n",
      "1min 34s ± 0 ns per loop (mean ± std. dev. of 1 run, 1 loop each)\n"
     ]
    }
   ],
   "source": [
    "%%timeit -r 1\n",
    "\n",
    "df = pd.DataFrame()\n",
    "for chunk in pd.read_csv(\n",
    "    os.path.join(out_processed_dir, \"processed_rainfall.csv\"),\n",
    "    index_col=0,\n",
    "    parse_dates=True, \n",
    "    chunksize=1_000_000):\n",
    "    df = pd.concat([df, chunk])\n",
    "\n",
    "# Get the model counts\n",
    "print(\"Model counts:\")\n",
    "print(df.model.value_counts())\n",
    "\n",
    "# Describe the data\n",
    "print(\"Data description:\")\n",
    "print(df.describe())"
   ]
  },
  {
   "cell_type": "markdown",
   "metadata": {},
   "source": [
    "#### Compare run times on different machines\n",
    "\n",
    "| Team Member        | Operating System | RAM  | Processor              | Is SSD | Time taken |\n",
    "|:------------------:|:----------------:|:----:|:----------------------:|:------:|:----------:|\n",
    "| Rakesh Pandey      | Ubuntu 20.04     | 32GB | Intel® Core™ i7-10870H | Yes    | 1min 34s   |\n",
    "| Mahsa Sarafrazi    |                  |      |                        |        |            |\n",
    "| Gabe Fairbrother   |  Windows 10      | 32GB | Intel® Core™ i7-10875H | Yes    |     2min 12s      |\n",
    "| Michelle Wang      |                  |      |                        |        |            |"
   ]
  },
  {
   "cell_type": "markdown",
   "metadata": {},
   "source": [
    "### 5. Perform a simple EDA in R"
   ]
  },
  {
   "cell_type": "markdown",
   "metadata": {},
   "source": [
    "**Approach to transfer data from python to R**\n",
    "\n",
    "We are more inclined to use the 'Arrow Exchange' method. Using 'Apache Arrow' as an intermediate step can speed up the conversion of a 'pandas. DataFrame'. The pyarrow package uses compiled code to efficiently convert a 'pandas. DataFrame' to a 'Arrow' data structure, and the R package arrow can do the same from a 'Arrow' data structure to a 'R data.frame'."
   ]
  },
  {
   "cell_type": "markdown",
   "metadata": {},
   "source": [
    "Time spent on this serialization/deserialization process is very less and is also a zero-copy process."
   ]
  },
  {
   "cell_type": "code",
   "execution_count": 16,
   "metadata": {},
   "outputs": [],
   "source": [
    "df = pd.DataFrame()\n",
    "for chunk in pd.read_csv(\n",
    "    os.path.join(out_processed_dir, \"processed_rainfall.csv\"),\n",
    "    index_col=0,\n",
    "    parse_dates=True, \n",
    "    chunksize=1_000_000):\n",
    "    df = pd.concat([df, chunk])"
   ]
  },
  {
   "cell_type": "code",
   "execution_count": 17,
   "metadata": {},
   "outputs": [
    {
     "name": "stdout",
     "output_type": "stream",
     "text": [
      "The rpy2.ipython extension is already loaded. To reload it, use:\n",
      "  %reload_ext rpy2.ipython\n"
     ]
    }
   ],
   "source": [
    "%load_ext rpy2.ipython"
   ]
  },
  {
   "cell_type": "code",
   "execution_count": 18,
   "metadata": {},
   "outputs": [
    {
     "name": "stdout",
     "output_type": "stream",
     "text": [
      "CPU times: user 2.41 s, sys: 429 ms, total: 2.84 s\n",
      "Wall time: 1.71 s\n"
     ]
    }
   ],
   "source": [
    "%%time\n",
    "rdf = pyra.converter.py2rpy(pa.Table.from_pandas(df))"
   ]
  },
  {
   "cell_type": "code",
   "execution_count": 21,
   "metadata": {},
   "outputs": [
    {
     "name": "stdout",
     "output_type": "stream",
     "text": [
      "[1] \"Model counts:\"\n",
      "InMemoryDataset (query)\n",
      "model: string\n",
      "n: int32\n",
      "\n",
      "* Sorted by n [desc]\n",
      "See $.data for the source Arrow object\n",
      "[1] \"Data description:\"\n",
      "              Length   Class        Mode       \n",
      "lat_min       62467843 ChunkedArray environment\n",
      "lat_max       62467843 ChunkedArray environment\n",
      "lon_min       62467843 ChunkedArray environment\n",
      "lon_max       62467843 ChunkedArray environment\n",
      "rain (mm/day) 62467843 ChunkedArray environment\n",
      "model         62467843 ChunkedArray environment\n",
      "time          62467843 ChunkedArray environment\n",
      "CPU times: user 45.2 ms, sys: 616 µs, total: 45.8 ms\n",
      "Wall time: 38.4 ms\n"
     ]
    }
   ],
   "source": [
    "%%time\n",
    "%%R -i rdf\n",
    "library(dplyr)\n",
    "\n",
    "# Get the model counts\n",
    "print(\"Model counts:\")\n",
    "print(count(rdf, model, sort = TRUE))\n",
    "\n",
    "# Describe the data\n",
    "print(\"Data description:\")\n",
    "print(summary(rdf))\n"
   ]
  },
  {
   "cell_type": "markdown",
   "metadata": {},
   "source": [
    "### "
   ]
  }
 ],
 "metadata": {
  "interpreter": {
   "hash": "0431e97599bb9ae06b62e9e4cc0acb5e2f4237c339c3eea49a31a7ce8607a15c"
  },
  "kernelspec": {
   "display_name": "Python [conda env:573-2.9.0] *",
   "language": "python",
   "name": "conda-env-573-2.9.0-py"
  },
  "language_info": {
   "codemirror_mode": {
    "name": "ipython",
    "version": 3
   },
   "file_extension": ".py",
   "mimetype": "text/x-python",
   "name": "python",
   "nbconvert_exporter": "python",
   "pygments_lexer": "ipython3",
   "version": "3.9.7"
  }
 },
 "nbformat": 4,
 "nbformat_minor": 4
}
