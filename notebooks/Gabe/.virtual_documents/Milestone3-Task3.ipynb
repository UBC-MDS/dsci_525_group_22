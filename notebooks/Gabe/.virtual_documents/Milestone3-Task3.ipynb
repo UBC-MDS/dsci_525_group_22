import numpy as np
import pandas as pd
from joblib import dump, load
from sklearn.metrics import mean_squared_error
from sklearn.ensemble import RandomForestRegressor
from sklearn.model_selection import train_test_split
import matplotlib.pyplot as plt
plt.style.use('ggplot')
plt.rcParams.update({'font.size': 16, 'axes.labelweight': 'bold', 'figure.figsize': (8,6)})
## add any other additional packages that you need. You are free to use any packages for vizualization.


## Depending on the permissions that you provided to your bucket you might need to provide your aws credentials
## to read from the bucket, if so provide with your credentials and pass as storage_options=aws_credentials
# aws_credentials = {"key": "","secret": "","token":""}
df = pd.read_csv("s3://xxxx/ml_data_SYD.csv", index_col=0, parse_dates=True)


## Use your ML skills to get from step 1 to step 6























model = RandomForestRegressor(n_estimators=___, max_depth=___)
model.fit(X_train, y_train)


print(f"Train RMSE: {mean_squared_error(y_train, model.predict(X_train), squared=False):.2f}")
print(f" Test RMSE: {mean_squared_error(y_test, model.predict(X_test), squared=False):.2f}")


# ready to deploy
dump(model, "model.joblib")
